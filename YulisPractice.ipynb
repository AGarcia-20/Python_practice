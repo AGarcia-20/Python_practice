{
 "cells": [
  {
   "cell_type": "code",
   "execution_count": 19,
   "metadata": {},
   "outputs": [],
   "source": [
    "def get_dimensions(files):\n",
    "    # Set starting points for min and max dimensions\n",
    "    min_height, min_width = 10000, 10000\n",
    "    max_height, max_width = 0, 0\n",
    "    \n",
    "    for f in files:\n",
    "        # Read in images\n",
    "        img = cv.imread(f) # Read in images\n",
    "        h,w = img.shape[:2] # get height and width\n",
    "        \n",
    "        # Update min and max values, if necessary\n",
    "        if h < min_height:\n",
    "            min_height = h \n",
    "        if h > max_height:\n",
    "            max_height = h\n",
    "        if w < min_width:\n",
    "            min_width = w\n",
    "        if w > max_width:\n",
    "            max_width = w\n",
    "            \n",
    "    return min_height, min_width, max_height, max_width"
   ]
  },
  {
   "cell_type": "code",
   "execution_count": null,
   "metadata": {},
   "outputs": [],
   "source": []
  },
  {
   "cell_type": "code",
   "execution_count": 21,
   "metadata": {},
   "outputs": [],
   "source": [
    "def purple2(gold,fish=3):\n",
    "    crackers=gold-fish\n",
    "    return crackers\n",
    "\n",
    "for f in files "
   ]
  },
  {
   "cell_type": "code",
   "execution_count": 51,
   "metadata": {},
   "outputs": [
    {
     "data": {
      "text/plain": [
       "(104, 160, 104, 160)"
      ]
     },
     "execution_count": 51,
     "metadata": {},
     "output_type": "execute_result"
    }
   ],
   "source": [
    "import cv2 as cv\n",
    "\n",
    "    # Set starting points for min and max dimensions\n",
    "min_height, min_width = 10000, 10000\n",
    "max_height, max_width = 0, 0\n",
    "files = [\"/home/guest_3/Desktop/Image_classification_SPCS/Scripps_plankton_camera_system_images/Labeled_ciliates_and_other/Ciliate/SPCP2-1564469803-161632-000-324-2176-160-104.jpg\"]\n",
    "for f in files:\n",
    "        # Read in images\n",
    "        img = cv.imread(f) # Read in images\n",
    "        h,w = img.shape[:2] # get height and width\n",
    "        \n",
    "        # Update min and max values, if necessary\n",
    "        if h < min_height:\n",
    "            min_height = h \n",
    "        if h > max_height:\n",
    "            max_height = h\n",
    "        if w < min_width:\n",
    "            min_width = w\n",
    "        if w > max_width:\n",
    "            max_width = w\n",
    "            \n",
    "min_height, min_width, max_height, max_width\n"
   ]
  },
  {
   "cell_type": "code",
   "execution_count": null,
   "metadata": {},
   "outputs": [],
   "source": [
    "def get_image_files(root_dir, img_types):\n",
    "    #os.walk creates 3-tuple with (dirpath, dirnames, filenames)\n",
    "    \n",
    "    # Get all the root directories, subdirectories, and files\n",
    "    full_paths = [x for x in os.walk(root_dir)] \n",
    "    imgs_temp = [os.path.join(ds,f) for ds,_,fs in full_paths for f in fs if f]   \n",
    "    \n",
    "    # Filter out so only have directories with .jpg, .tiff, .tif, .png, .jpeg\n",
    "    imgs = [j for j in imgs_temp if any (k in j for k in img_types)]\n",
    "    return imgs\n"
   ]
  },
  {
   "cell_type": "code",
   "execution_count": 69,
   "metadata": {},
   "outputs": [
    {
     "data": {
      "text/plain": [
       "['/home/guest_3/Desktop/Image_classification_SPCS/Scripps_plankton_camera_system_images/Labeled_ciliates_and_other/Lingulodinium_polyedra/SPCP2-1558417507-095844-002-68-2292-128-128.jpg',\n",
       " '/home/guest_3/Desktop/Image_classification_SPCS/Scripps_plankton_camera_system_images/Labeled_ciliates_and_other/Lingulodinium_polyedra/SPCP2-1559626660-016952-000-292-1972-104-120.jpg',\n",
       " '/home/guest_3/Desktop/Image_classification_SPCS/Scripps_plankton_camera_system_images/Labeled_ciliates_and_other/Lingulodinium_polyedra/SPCP2-1559626069-012281-000-168-2544-120-120.jpg',\n",
       " '/home/guest_3/Desktop/Image_classification_SPCS/Scripps_plankton_camera_system_images/Labeled_ciliates_and_other/Lingulodinium_polyedra/SPCP2-1559627025-019836-003-124-196-128-144.jpg',\n",
       " '/home/guest_3/Desktop/Image_classification_SPCS/Scripps_plankton_camera_system_images/Labeled_ciliates_and_other/Lingulodinium_polyedra/SPCP2-1559625526-007977-002-392-1808-136-128.jpg',\n",
       " '/home/guest_3/Desktop/Image_classification_SPCS/Scripps_plankton_camera_system_images/Labeled_ciliates_and_other/Lingulodinium_polyedra/SPCP2-1559584654-064429-003-0-532-128-120.jpg',\n",
       " '/home/guest_3/Desktop/Image_classification_SPCS/Scripps_plankton_camera_system_images/Labeled_ciliates_and_other/Lingulodinium_polyedra/SPCP2-1559584607-064050-003-412-2112-112-120.jpg',\n",
       " '/home/guest_3/Desktop/Image_classification_SPCS/Scripps_plankton_camera_system_images/Labeled_ciliates_and_other/Lingulodinium_polyedra/SPCP2-1559582517-047537-000-832-2348-112-88.jpg']"
      ]
     },
     "execution_count": 69,
     "metadata": {},
     "output_type": "execute_result"
    }
   ],
   "source": [
    "import os\n",
    "\n",
    "root_dir = \"/home/guest_3/Desktop/Image_classification_SPCS/Scripps_plankton_camera_system_images/Labeled_ciliates_and_other\"\n",
    "# Get all the root directories, subdirectories, and files\n",
    "full_paths = [x for x in os.walk(root_dir)] \n",
    "imgs_temp = [os.path.join(ds,f) for ds,_,fs in full_paths for f in fs if f]   \n",
    "\n",
    "img_types = [\".jpg\"]\n",
    "\n",
    "# Filter out so only have directories with .jpg, .tiff, .tif, .png, .jpeg\n",
    "imgs = [j for j in imgs_temp if any (k in j for k in img_types)]\n",
    "\n",
    "imgs[0:8]"
   ]
  },
  {
   "cell_type": "code",
   "execution_count": null,
   "metadata": {},
   "outputs": [],
   "source": [
    "\n",
    "def make_labels(files):\n",
    "    # Assume input is a list of complete file paths.\n",
    "    # Count the number of unique directory names that are immediate parent of the files.\n",
    "    # Order the directory names alphabetically from a-z, and associate labels accordingly.\n",
    "    set_temp = {x.split('/')[-2] for x in files} #doing as set to get only unique values\n",
    "    list_temp = list(set_temp) #Change to list so can interate over it\n",
    "    list_new = sorted(list_temp) #Alphabetizing\n",
    "    label_dict = {list_new[x]:x for x in range(len(list_new))} #create dictionary with category:index\n",
    "    \n",
    "    return label_dict\n"
   ]
  },
  {
   "cell_type": "code",
   "execution_count": null,
   "metadata": {},
   "outputs": [],
   "source": [
    "\n"
   ]
  },
  {
   "cell_type": "code",
   "execution_count": 7,
   "metadata": {},
   "outputs": [
    {
     "name": "stdout",
     "output_type": "stream",
     "text": [
      "folders do not contain the same images\n"
     ]
    }
   ],
   "source": [
    "\n",
    "import os\n",
    "import shutil\n",
    "\n",
    "path_1 = '/Users/yulismamartinez/Desktop/Research/Lab/Ciliates_guest1N/' \n",
    "path_2 = '/Users/yulismamartinez/Desktop/Research/Lab/Ciliates_guest3/'\n",
    "\n",
    "path_9 = '/Users/yulismamartinez/Desktop/Research/Different_Ciliate_Images/'#moving Ciliate images here\n",
    "\n",
    "\n",
    "a = os.listdir(path_1) #adjust the \"path_1/2\" to the paths you want to use\n",
    "b = os.listdir(path_2)\n",
    "\n",
    "if a == b:\n",
    "    print(\"folders contain the same images\")\n",
    "elif a != b:\n",
    "    print(\"folders do not contain the same images\")\n",
    "\n",
    "dif_files_path1 = [x for x in a if x not in b] #this will only look at the images that are in A but not in B\n",
    "source = path_1\n",
    "destination = path_9\n",
    "for i in dif_files_path1:\n",
    "    shutil.move (source+i, destination+i) \n",
    "\n",
    "dif_files_path2 = [x for x in b if x not in a] #this will only look at the images that are in B but not in A\n",
    "source = path_2\n",
    "destination = path_9\n",
    "for i in dif_files_path2:\n",
    "    shutil.move (source+i, destination+i) \n"
   ]
  },
  {
   "cell_type": "code",
   "execution_count": 1,
   "metadata": {},
   "outputs": [
    {
     "name": "stdout",
     "output_type": "stream",
     "text": [
      "directories do not contain the same files\n",
      "directories do not contain the same files\n",
      "directories do not contain the same files\n",
      "directories do not contain the same files\n"
     ]
    }
   ],
   "source": [
    "import os\n",
    "import shutil\n",
    "\n",
    "\n",
    "\n",
    "def mv_duplicate_files(source1, source2, destination,file_types):\n",
    "    \n",
    "    # This function compares files in source1 and source2 and moves duplicate files \n",
    "        #so destination directory has single set of each file\n",
    "        \n",
    "    # source1 is one directory want to compare files in\n",
    "    # source2 is other directory want to compare files in\n",
    "    # destination is where complete set of non-duplicate files will end up\n",
    "    # file_types are the types of files want moved to destination directory\n",
    "    \n",
    "    files1 = os.listdir(source1) \n",
    "    files2 = os.listdir(source2)\n",
    "    files3 = os.listdir(destination)\n",
    "\n",
    "\n",
    "    if files1 == files2:\n",
    "        print(\"directories contain the same files\")\n",
    "\n",
    "    elif files1 != files2:\n",
    "        print(\"directories do not contain the same files\")\n",
    "\n",
    "        #Only look at the images in files1 but not in files2\n",
    "        dif_files_temp = [x for x in files1 if x not in files2] \n",
    "        \n",
    "        # Only dealing with file types of interest\n",
    "        dif_files_1_temp = [j for j in dif_files_temp if any (k in j for k in file_types)]\n",
    "        \n",
    "        #Ensure files in source1 not already in destination folder\n",
    "        dif_files_1 = [x for x in dif_files_1_temp if x not in files3]\n",
    "        for i in dif_files_1:\n",
    "            shutil.move (source1+i, destination+i) \n",
    "   \n",
    "        #Only look at the images that are in files2 but not in files1\n",
    "        dif_files_temp = [x for x in files2 if x not in files1] \n",
    "        dif_files_2_temp = [j for j in dif_files_temp if any (k in j for k in file_types)]\n",
    "        dif_files_2 = [x for x in dif_files_2_temp if x not in files3]\n",
    "        for i in dif_files_2:\n",
    "            shutil.move (source2+i, destination+i) \n",
    "        \n",
    "        # Move images that are same in both folders\n",
    "        same_files_temp = [x for x in files1 if x in files2]\n",
    "        same_files = [j for j in same_files_temp if any (k in j for k in file_types)]\n",
    "        for i in same_files:\n",
    "            shutil.move (source1+i, destination+i)\n",
    "\n",
    "\n",
    "# Specify directories want to compare and where want files to end up   \n",
    "path_groups = [('/Users/yulismamartinez/Desktop/Research/Lab/Ciliates_guest1N/',#folder_1 for comparison\n",
    "                '/Users/yulismamartinez/Desktop/Research/Lab/Ciliates_guest3/',#folder_2 for comparison\n",
    "                '/Users/yulismamartinez/Desktop/Research/Lab/Different_Ciliate_Images/'),#destination for files\n",
    "                ('/Users/yulismamartinez/Desktop/Research/Lab/Lpoly1/',#folder_1 for comparison\n",
    "                '/Users/yulismamartinez/Desktop/Research/Lab/Lpoly3/',#folder_2 for comparison\n",
    "                '/Users/yulismamartinez/Desktop/Research/Lab/Different_Lpoly/' ), #destination\n",
    "               ('/Users/yulismamartinez/Desktop/Research/Lab/Other1/',\n",
    "               '/Users/yulismamartinez/Desktop/Research/Lab/Other3/', \n",
    "               '/Users/yulismamartinez/Desktop/Research/Lab/Different_other/'),\n",
    "              ('/Users/yulismamartinez/Desktop/Research/Lab/Questionable1/',\n",
    "              '/Users/yulismamartinez/Desktop/Research/Lab/Questionable3/',\n",
    "              '/Users/yulismamartinez/Desktop/Research/Lab/Different_questionable/')]#destination\n",
    "\n",
    "# Specify file types want to look at actually move around\n",
    "file_types = ('jpg')\n",
    "\n",
    "# Run function\n",
    "for paths in path_groups:\n",
    "    mv_duplicate_files(paths[0],paths[1],paths[2],file_types)"
   ]
  },
  {
   "cell_type": "code",
   "execution_count": 2,
   "metadata": {},
   "outputs": [
    {
     "name": "stdout",
     "output_type": "stream",
     "text": [
      "directories do not contain the same files\n",
      "directories do not contain the same files\n",
      "directories do not contain the same files\n",
      "directories do not contain the same files\n"
     ]
    }
   ],
   "source": [
    "import os\n",
    "import shutil\n",
    "\n",
    "\n",
    "\n",
    "def mv_duplicate_files(source1, source2, destination,file_types):\n",
    "    \n",
    "    # This function compares files in source1 and source2 and moves duplicate files \n",
    "        #so destination directory has single set of each file\n",
    "        \n",
    "    # source1 is one directory want to compare files in\n",
    "    # source2 is other directory want to compare files in\n",
    "    # destination is where complete set of non-duplicate files will end up\n",
    "    # file_types are the types of files want moved to destination directory\n",
    "    \n",
    "    files1 = os.listdir(source1) \n",
    "    files2 = os.listdir(source2)\n",
    "    files3 = os.listdir(destination)\n",
    "\n",
    "\n",
    "    if files1 == files2:\n",
    "        print(\"directories contain the same files\")\n",
    "\n",
    "    elif files1 != files2:\n",
    "        print(\"directories do not contain the same files\")\n",
    "\n",
    "        #Only look at the images in files1 but not in files2\n",
    "        dif_files_temp = [x for x in files1 if x not in files2] \n",
    "        \n",
    "        # Only dealing with file types of interest\n",
    "        dif_files_1_temp = [j for j in dif_files_temp if any (k in j for k in file_types)]\n",
    "        \n",
    "        #Ensure files in source1 not already in destination folder\n",
    "        dif_files_1 = [x for x in dif_files_1_temp if x not in files3]\n",
    "        for i in dif_files_1:\n",
    "            shutil.move (source1+i, destination+i) \n",
    "   \n",
    "        #Only look at the images that are in files2 but not in files1\n",
    "        dif_files_temp = [x for x in files2 if x not in files1] \n",
    "        dif_files_2_temp = [j for j in dif_files_temp if any (k in j for k in file_types)]\n",
    "        dif_files_2 = [x for x in dif_files_2_temp if x not in files3]\n",
    "        for i in dif_files_2:\n",
    "            shutil.move (source2+i, destination+i) \n",
    "        \n",
    "        # Move images that are same in both folders\n",
    "        same_files_temp = [x for x in files1 if x in files2]\n",
    "        same_files = [j for j in same_files_temp if any (k in j for k in file_types)]\n",
    "        for i in same_files:\n",
    "            shutil.move (source1+i, destination+i)\n",
    "\n",
    "\n",
    "# Specify directories want to compare and where want files to end up   \n",
    "path_groups = [('/Users/yulismamartinez/Desktop/Python_practice/Master_images_guest_1_computer/Ciliate_guest1/', #folder_1 for comparison\n",
    "                '/Users/yulismamartinez/Desktop/Python_practice/Master_images_guest_3_computer/Ciliate_guest3/', #folder_2 for comparison\n",
    "                '/Users/yulismamartinez/Desktop/Python_practice/Final_Images/Ciliate/'), #destination for files\n",
    "                ('/Users/yulismamartinez/Desktop/Python_practice/Master_images_guest_1_computer/Lingulodinium_polyedra_guest1/',\n",
    "                '/Users/yulismamartinez/Desktop/Python_practice/Master_images_guest_3_computer/Lingulodinium_polyedra_guest3/',\n",
    "                '/Users/yulismamartinez/Desktop/Python_practice/Final_Images/Lingulodinium_polyedra/'), \n",
    "               ('/Users/yulismamartinez/Desktop/Python_practice/Master_images_guest_1_computer/Other_guest1/',\n",
    "               '/Users/yulismamartinez/Desktop/Python_practice/Master_images_guest_3_computer/Other_guest3/', \n",
    "               '/Users/yulismamartinez/Desktop/Python_practice/Final_Images/Other/'),\n",
    "              ('/Users/yulismamartinez/Desktop/Python_practice/Master_images_guest_1_computer/Questionable_guest1/',\n",
    "              '/Users/yulismamartinez/Desktop/Python_practice/Master_images_guest_3_computer/Questionable_guest3/',\n",
    "              '/Users/yulismamartinez/Desktop/Python_practice/Final_Images/Questionable/')]\n",
    "\n",
    "# Specify file types want to look at actually move around\n",
    "file_types = ('jpg')\n",
    "\n",
    "# Run function\n",
    "for paths in path_groups:\n",
    "    mv_duplicate_files(paths[0],paths[1],paths[2],file_types)"
   ]
  },
  {
   "cell_type": "code",
   "execution_count": 76,
   "metadata": {},
   "outputs": [
    {
     "name": "stdout",
     "output_type": "stream",
     "text": [
      "['.DS_Store']\n"
     ]
    },
    {
     "ename": "TypeError",
     "evalue": "'list' object cannot be interpreted as an integer",
     "output_type": "error",
     "traceback": [
      "\u001b[0;31m---------------------------------------------------------------------------\u001b[0m",
      "\u001b[0;31mTypeError\u001b[0m                                 Traceback (most recent call last)",
      "\u001b[0;32m<ipython-input-76-b18ea4344a48>\u001b[0m in \u001b[0;36m<module>\u001b[0;34m\u001b[0m\n\u001b[1;32m      6\u001b[0m \u001b[0;32mfor\u001b[0m \u001b[0mpath\u001b[0m\u001b[0;34m,\u001b[0m \u001b[0mdirs\u001b[0m\u001b[0;34m,\u001b[0m \u001b[0mfiles\u001b[0m \u001b[0;32min\u001b[0m \u001b[0mos\u001b[0m\u001b[0;34m.\u001b[0m\u001b[0mwalk\u001b[0m\u001b[0;34m(\u001b[0m\u001b[0mmypath\u001b[0m\u001b[0;34m)\u001b[0m\u001b[0;34m:\u001b[0m\u001b[0;34m\u001b[0m\u001b[0;34m\u001b[0m\u001b[0m\n\u001b[1;32m      7\u001b[0m     \u001b[0mprint\u001b[0m \u001b[0;34m(\u001b[0m\u001b[0mfiles\u001b[0m\u001b[0;34m)\u001b[0m\u001b[0;34m\u001b[0m\u001b[0;34m\u001b[0m\u001b[0m\n\u001b[0;32m----> 8\u001b[0;31m     \u001b[0;32mfor\u001b[0m \u001b[0mx\u001b[0m \u001b[0;32min\u001b[0m \u001b[0mrange\u001b[0m \u001b[0;34m(\u001b[0m\u001b[0;36m5\u001b[0m\u001b[0;34m,\u001b[0m\u001b[0mfiles\u001b[0m\u001b[0;34m)\u001b[0m\u001b[0;34m:\u001b[0m\u001b[0;34m\u001b[0m\u001b[0;34m\u001b[0m\u001b[0m\n\u001b[0m\u001b[1;32m      9\u001b[0m         \u001b[0mprint\u001b[0m \u001b[0;34m(\u001b[0m\u001b[0;34m'this is the %d time'\u001b[0m\u001b[0;34m%\u001b[0m\u001b[0mx\u001b[0m\u001b[0;34m)\u001b[0m\u001b[0;34m\u001b[0m\u001b[0;34m\u001b[0m\u001b[0m\n",
      "\u001b[0;31mTypeError\u001b[0m: 'list' object cannot be interpreted as an integer"
     ]
    }
   ],
   "source": [
    "from os import listdir\n",
    "from os.path import isfile, join\n",
    "import numpy\n",
    "\n",
    "mypath = \"/Users/yulismamartinez/Desktop/Research/Lab/Different_groups/500_images/\"\n",
    "for path, dirs, files in os.walk(mypath):\n",
    "    print (files)\n",
    "    for x in range (5,files):\n",
    "        print ('this is the %d time'%x)\n"
   ]
  },
  {
   "cell_type": "code",
   "execution_count": 73,
   "metadata": {},
   "outputs": [
    {
     "name": "stdout",
     "output_type": "stream",
     "text": [
      "['Different_Lpoly', 'Different_Ciliate_Images', '.DS_Store', 'Different_questionable', 'Different_other']\n",
      "Different_Lpoly\n",
      "this is the 0 time\n",
      "this is the 1 time\n",
      "this is the 2 time\n",
      "this is the 3 time\n",
      "this is the 4 time\n",
      "Different_Ciliate_Images\n",
      "this is the 0 time\n",
      "this is the 1 time\n",
      "this is the 2 time\n",
      "this is the 3 time\n",
      "this is the 4 time\n",
      ".DS_Store\n",
      "this is the 0 time\n",
      "this is the 1 time\n",
      "this is the 2 time\n",
      "this is the 3 time\n",
      "this is the 4 time\n",
      "Different_questionable\n",
      "this is the 0 time\n",
      "this is the 1 time\n",
      "this is the 2 time\n",
      "this is the 3 time\n",
      "this is the 4 time\n",
      "Different_other\n",
      "this is the 0 time\n",
      "this is the 1 time\n",
      "this is the 2 time\n",
      "this is the 3 time\n",
      "this is the 4 time\n"
     ]
    }
   ],
   "source": [
    "mypath = ['/Users/yulismamartinez/Desktop/Research/Lab/Different_groups/500_images/'\n",
    "print (os.listdir(mypath))\n",
    "for a in os.listdir(mypath):\n",
    "    print (a)\n",
    "    for x in range (5):\n",
    "        print ('this is the %d time'%x)\n",
    "\n"
   ]
  },
  {
   "cell_type": "code",
   "execution_count": 6,
   "metadata": {},
   "outputs": [
    {
     "name": "stdout",
     "output_type": "stream",
     "text": [
      "['2000_Images', '0200_Images', '0500_Images', '0100_Images', '1000_Images']\n"
     ]
    }
   ],
   "source": [
    "import os\n",
    "\n",
    "count = ([name for name in os.listdir('/Users/yulismamartinez/Desktop/Python_practice/Different_sets_of_images/') if not name.startswith(\".DS_Store\")])\n",
    "print (count)\n",
    "# def list_directories_repeated_five_times(Different_batches):\n",
    "#     category_in_different_batches = [i.rstrip(\".DS_Store\") for i in os.listdir(Different_batches)]\n",
    "#     print(category_in_different_batches*5)\n",
    "# list_directories_repeated_five_times(Different_batches='/Users/yulismamartinez/Desktop/Python_practice/Different_sets_of_images')\n",
    "# def sort_function(files):\n",
    "#     files = os.listdir('/Users/yulismamartinez/Desktop/Python_practice/Different_sets_of_images/')\n",
    "#     sorted_files = sorted(files)\n",
    "#     print (sorted_files*5)\n",
    "# sort_function('/Users/yulismamartinez/Desktop/Python_practice/Different_sets_of_images/')\n",
    "#def list_directories_repeated_five_times(sorted_files):\n",
    "    #category_in_directories = [i for i in os.listdir('/Users/yulismamartinez/Desktop/Python_practice/Different_sets_of_images/')* 5]\n",
    "    #print(category_in_directories)\n",
    "#list_directories_repeated_five_times(sorted_files = '/Users/yulismamartinez/Desktop/Python_practice/Different_sets_of_images/')\n",
    "\n"
   ]
  },
  {
   "cell_type": "code",
   "execution_count": 65,
   "metadata": {},
   "outputs": [
    {
     "name": "stdout",
     "output_type": "stream",
     "text": [
      "2000_Images\n",
      ".DS_Store\n",
      "0200_Images\n",
      "0500_Images\n",
      "0100_Images\n",
      "1000_Images\n",
      "2000_Images\n",
      ".DS_Store\n",
      "0200_Images\n",
      "0500_Images\n",
      "0100_Images\n",
      "1000_Images\n",
      "2000_Images\n",
      ".DS_Store\n",
      "0200_Images\n",
      "0500_Images\n",
      "0100_Images\n",
      "1000_Images\n",
      "2000_Images\n",
      ".DS_Store\n",
      "0200_Images\n",
      "0500_Images\n",
      "0100_Images\n",
      "1000_Images\n",
      "2000_Images\n",
      ".DS_Store\n",
      "0200_Images\n",
      "0500_Images\n",
      "0100_Images\n",
      "1000_Images\n"
     ]
    }
   ],
   "source": [
    "def list_directories(root_directory, rep=5):\n",
    "    count = ([name for name in os.listdir('/Users/yulismamartinez/Desktop/Python_practice/Different_sets_of_images/') if not name.startswith(\".DS_Store\")])\n",
    "    for i in os.listdir(root_directory) *rep:\n",
    "        print (i)\n",
    "\n",
    "list_directories(root_directory ='/Users/yulismamartinez/Desktop/Python_practice/Different_sets_of_images', rep=5)\n",
    "\n",
    "\n",
    "# def category_count(root_directory,rep=5):\n",
    "#     for i in os.listdir(root_directory) *rep:\n",
    "#         print (i)\n",
    "# category_count(root_directory = '/Users/yulismamartinez/Desktop/Python_practice/Different_sets_of_images/',rep=5)\n"
   ]
  },
  {
   "cell_type": "code",
   "execution_count": 23,
   "metadata": {},
   "outputs": [],
   "source": [
    "# import os\n",
    "# def list_directories(Different_sets_of_images):\n",
    "#     count = ([name for name in os.listdir('/Users/yulismamartinez/Desktop/Python_practice/Different_sets_of_images/') if not name.startswith(\".DS_Store\")])\n",
    "#     print(count)\n",
    "# list_of_directories(Different_sets_of_images='/Users/yulismamartinez/Desktop/Python_practice/Different_sets_of_images')\n",
    "\n",
    "# def category_order(Different_sets_of_images):\n",
    "#     a = [i for i in os.listdir(Different_sets_of_images) if i.startswith('0100_Images')]\n",
    "#     b = [i for i in os.listdir(Different_sets_of_images) if i.startswith('0200_Images')]\n",
    "#     c = [i for i in os.listdir(Different_sets_of_images) if i.startswith('0500_Images')]\n",
    "#     d = [i for i in os.listdir(Different_sets_of_images) if i.startswith('1000_Images')]\n",
    "#     e = [i for i in os.listdir(Different_sets_of_images) if i.startswith('2000_Images')]\n",
    "#     category_order = [a + b + c + d + e]\n",
    "#     print(category_order*5)\n",
    "# category_order('/Users/yulismamartinez/Desktop/Python_practice/Different_sets_of_images')"
   ]
  },
  {
   "cell_type": "code",
   "execution_count": 8,
   "metadata": {},
   "outputs": [],
   "source": [
    "# import os\n",
    "# def list_directories_repeated_five_times(Different_batches):\n",
    "#     category_in_different_batches = [i.rstrip('.DS_Store') for i in os.listdir(Different_batches)]\n",
    "#     print(category_in_different_batches*5)\n",
    "# list_directories_repeated_five_times(Different_batches='/Users/yulismamartinez/Desktop/Python_practice/Different_sets_of_images')\n",
    "# def category_order(Different_batches):\n",
    "#     a = [i for i in os.listdir(Different_batches) if i.startswith('0100_Images')]\n",
    "#     b = [i for i in os.listdir(Different_batches) if i.startswith('0200_Images')]\n",
    "#     c = [i for i in os.listdir(Different_batches) if i.startswith('0500_Images')]\n",
    "#     d = [i for i in os.listdir(Different_batches) if i.startswith('1000_Images')]\n",
    "#     e = [i for i in os.listdir(Different_batches) if i.startswith('2000_Images')]\n",
    "#     category_order = [a + b + c + d + e]\n",
    "#     print(category_order*5)\n",
    "# category_order('/Users/yulismamartinez/Desktop/Python_practice/Different_sets_of_images')"
   ]
  },
  {
   "cell_type": "code",
   "execution_count": 79,
   "metadata": {},
   "outputs": [
    {
     "data": {
      "text/plain": [
       "['0100_images',\n",
       " '0100_images',\n",
       " '0100_images',\n",
       " '0100_images',\n",
       " '0100_images',\n",
       " '0200_images',\n",
       " '0200_images',\n",
       " '0200_images',\n",
       " '0200_images',\n",
       " '0200_images',\n",
       " '0500_images',\n",
       " '0500_images',\n",
       " '0500_images',\n",
       " '0500_images',\n",
       " '0500_images',\n",
       " '1000_images',\n",
       " '1000_images',\n",
       " '1000_images',\n",
       " '1000_images',\n",
       " '1000_images',\n",
       " '2000_images',\n",
       " '2000_images',\n",
       " '2000_images',\n",
       " '2000_images',\n",
       " '2000_images']"
      ]
     },
     "execution_count": 79,
     "metadata": {},
     "output_type": "execute_result"
    }
   ],
   "source": [
    "list_dir = ([name for name in os.listdir('/Users/yulismamartinez/Desktop/Python_practice/Different_sets_of_images/') if not name.startswith(\".DS_Store\")])\n",
    "list_dir = [f.lower() for f in list_dir]\n",
    "sorted (list_dir*5)\n"
   ]
  },
  {
   "cell_type": "code",
   "execution_count": null,
   "metadata": {},
   "outputs": [],
   "source": []
  },
  {
   "cell_type": "code",
   "execution_count": 4,
   "metadata": {},
   "outputs": [
    {
     "name": "stdout",
     "output_type": "stream",
     "text": [
      "['0100_images', '0100_images', '0200_images', '0200_images', '0500_images', '0500_images', '1000_images', '1000_images', '2000_images', '2000_images']\n"
     ]
    }
   ],
   "source": [
    "#code that works!\n",
    "import os\n",
    "def list_dir(directory, rep=5):\n",
    "    categories_in_directory = [i for i in os.listdir(directory) if not i.startswith(\".DS_Store\")]\n",
    "    get_list_order = [i.lower() for i in categories_in_directory]\n",
    "    final_list_order = sorted(get_list_order*rep)\n",
    "#     print(final_list_order) \n",
    "    return final_list_order\n",
    "a= list_dir(directory='/Users/yulismamartinez/Desktop/Python_practice/Different_sets_of_images/', rep=2)\n",
    "print (a)"
   ]
  },
  {
   "cell_type": "code",
   "execution_count": 22,
   "metadata": {},
   "outputs": [
    {
     "name": "stdout",
     "output_type": "stream",
     "text": [
      "SPCP2-1522715341-301939-002-1836-1708-104-120.jpg\n",
      "SPCP2-1522716942-314217-000-544-2564-136-139.jpg\n"
     ]
    }
   ],
   "source": [
    "import shutil, os\n",
    "source =\"/Users/yulismamartinez/Desktop/Research/Lab/Ciliates_guest3/\"\n",
    "destination =\"/Users/yulismamartinez/Desktop/Research/Lab/New_destination\"\n",
    "for f in os.listdir(source):\n",
    "    if f.endswith(\".jpg\"):\n",
    "        shutil.copy(source + f, destination)\n",
    "        print(f)"
   ]
  },
  {
   "cell_type": "code",
   "execution_count": null,
   "metadata": {},
   "outputs": [],
   "source": []
  },
  {
   "cell_type": "code",
   "execution_count": 20,
   "metadata": {},
   "outputs": [
    {
     "name": "stdout",
     "output_type": "stream",
     "text": [
      "[('/Users/yulismamartinez/Desktop/Research/Marine_life/Images/', ['L_poly', 'Ciliate', 'Other', 'Questionable'], ['.DS_Store']), ('/Users/yulismamartinez/Desktop/Research/Marine_life/Images/L_poly', [], ['Screen Shot 2020-07-02 at 3.21.42 PM.png', 'Screen Shot 2020-07-01 at 10.06.20 PM.png', 'Screen Shot 2020-07-02 at 3.52.47 PM.png', 'Screen Shot 2020-07-01 at 10.27.59 PM.png', 'Screen Shot 2020-07-02 at 1.26.15 PM.png', 'Screen Shot 2020-07-01 at 10.37.36 PM.png']), ('/Users/yulismamartinez/Desktop/Research/Marine_life/Images/Ciliate', [], ['Screen Shot 2020-07-01 at 8.11.00 PM.png', 'Screen Shot 2020-07-01 at 6.54.54 PM.png', 'Screen Shot 2020-07-01 at 6.53.17 PM.png', 'Screen Shot 2020-07-01 at 7.21.10 PM.png', 'Screen Shot 2020-07-01 at 6.40.32 PM.png', 'Screen Shot 2020-07-01 at 6.31.18 PM.png', 'Screen Shot 2020-07-01 at 6.45.52 PM.png', 'Screen Shot 2020-07-01 at 7.53.18 PM.png']), ('/Users/yulismamartinez/Desktop/Research/Marine_life/Images/Other', [], ['Screen Shot 2020-07-02 at 8.10.12 PM.png', 'Screen Shot 2020-07-02 at 8.25.00 PM.png', 'Screen Shot 2020-07-02 at 5.38.21 PM.png', 'Screen Shot 2020-07-02 at 8.09.14 PM.png', 'Screen Shot 2020-07-02 at 8.14.07 PM.png', 'Screen Shot 2020-07-02 at 10.09.52 AM.png', 'Screen Shot 2020-07-02 at 6.47.18 PM.png', 'Screen Shot 2020-07-02 at 9.35.44 AM.png', 'Screen Shot 2020-07-02 at 6.47.34 PM.png', 'Screen Shot 2020-07-02 at 4.52.54 PM.png', 'Screen Shot 2020-07-02 at 6.02.16 PM.png', 'Screen Shot 2020-07-02 at 9.31.41 AM.png', 'Screen Shot 2020-07-02 at 4.19.24 PM.png']), ('/Users/yulismamartinez/Desktop/Research/Marine_life/Images/Questionable', [], ['Screen Shot 2020-07-03 at 8.40.46 AM.png', 'Screen Shot 2020-07-03 at 7.50.48 AM.png', 'Screen Shot 2020-07-03 at 8.42.34 AM.png', 'Screen Shot 2020-07-02 at 10.14.17 AM.png', 'Screen Shot 2020-07-08 at 11.29.32 PM.png', 'Screen Shot 2020-07-03 at 8.52.31 AM.png', 'Screen Shot 2020-07-02 at 10.35.35 AM.png', 'Screen Shot 2020-07-08 at 11.37.36 PM.png', 'Screen Shot 2020-07-02 at 10.44.54 AM.png', 'Screen Shot 2020-07-07 at 10.16.09 PM.png', 'Screen Shot 2020-07-02 at 10.35.14 AM.png', 'Screen Shot 2020-07-02 at 12.14.49 PM.png', 'Screen Shot 2020-07-02 at 11.48.12 AM.png', 'Screen Shot 2020-07-03 at 7.49.23 PM.png', 'Screen Shot 2020-07-02 at 12.13.49 PM.png', 'Screen Shot 2020-07-07 at 10.25.22 PM.png'])]\n"
     ]
    }
   ],
   "source": [
    "import os\n",
    "\n",
    "source = '/Users/yulismamartinez/Desktop/Research/Marine_life/Images/'\n",
    "destination = '/Users/yulismamartinez/Desktop/Research/Marine_life/Place/'\n",
    "# Get all the root directories, subdirectories, and files\n",
    "full_paths = [x for x in os.walk(source)] \n",
    "print(full_paths)\n",
    "imgs_temp = [os.path.join(ds,f) for ds,_,fs in full_paths for f in fs if f]   \n",
    "categories_in_directory = [i for i in os.listdir(source) if not i.startswith(\"Screen\")]\n",
    "\n",
    "img_types = [\".png\"]\n",
    "\n",
    "\n",
    "# # Filter out so only have directories with .jpg, .tiff, .tif, .png, .jpeg\n",
    "imgs = [j for j in imgs_temp if any (k in j for k in img_types)]\n",
    "imgs[0:8]\n",
    "for f in os.listdir(source):\n",
    "    if f.endswith(\".jpg\"):\n",
    "        shutil.copy(source + f, destination)\n",
    "        print(f)"
   ]
  },
  {
   "cell_type": "code",
   "execution_count": 15,
   "metadata": {},
   "outputs": [
    {
     "name": "stdout",
     "output_type": "stream",
     "text": [
      "{'/': 0, 'D': 1, 'M': 2, 'R': 3, 'U': 4, '_': 5, 'a': 6, 'c': 7, 'e': 8, 'f': 9, 'h': 10, 'i': 11, 'k': 12, 'l': 13, 'm': 14, 'n': 15, 'o': 16, 'p': 17, 'r': 18, 's': 19, 't': 20, 'u': 21, 'y': 22, 'z': 23}\n"
     ]
    }
   ],
   "source": [
    "def make_labels(files):\n",
    "    # Assume input is a list of complete file paths.\n",
    "    # Count the number of unique directory names that are immediate parent of the files.\n",
    "    # Order the directory names alphabetically from a-z, and associate labels accordingly.\n",
    "    set_temp = {x.split(',')[-1] for x in files} #doing as set to get only unique values\n",
    "    list_temp = list(set_temp) #Change to list so can interate over it\n",
    "    list_new = sorted(list_temp) #Alphabetizing\n",
    "    label_dict = {list_new[x]:x for x in range(len(list_new))} #create dictionary with category:index\n",
    "    \n",
    "    return label_dict\n",
    "\n",
    "v = make_labels(files='/Users/yulismamartinez/Desktop/Research/Marine_life/')\n",
    "print (v)"
   ]
  },
  {
   "cell_type": "code",
   "execution_count": 56,
   "metadata": {},
   "outputs": [
    {
     "name": "stdout",
     "output_type": "stream",
     "text": [
      "{'/Users/yulismamartinez/Desktop/Research/Marine_life/Images/Ciliate/2020.png': 0, '/Users/yulismamartinez/Desktop/Research/Marine_life/Images/Ciliate/Ciliate.png': 1, '/Users/yulismamartinez/Desktop/Research/Marine_life/Images/Ciliate/Screen Shot 2020-07-01 at 6.40.32 PM.png': 2, '/Users/yulismamartinez/Desktop/Research/Marine_life/Images/Ciliate/Screen Shot 2020-07-01 at 6.45.52 PM.png': 3, '/Users/yulismamartinez/Desktop/Research/Marine_life/Images/Ciliate/Screen Shot 2020-07-01 at 6.53.17 PM.png': 4, '/Users/yulismamartinez/Desktop/Research/Marine_life/Images/Ciliate/Screen Shot 2020-07-01 at 6.54.54 PM.png': 5, '/Users/yulismamartinez/Desktop/Research/Marine_life/Images/Ciliate/Screen Shot 2020-07-01 at 7.21.10 PM.png': 6, '/Users/yulismamartinez/Desktop/Research/Marine_life/Images/Ciliate/Screen Shot 2020-07-01 at 8.11.00 PM.png': 7, '/Users/yulismamartinez/Desktop/Research/Marine_life/Images/L_poly/Screen Shot 2020-07-01 at 10.06.20 PM.png': 8, '/Users/yulismamartinez/Desktop/Research/Marine_life/Images/L_poly/Screen Shot 2020-07-01 at 10.27.59 PM.png': 9, '/Users/yulismamartinez/Desktop/Research/Marine_life/Images/L_poly/Screen Shot 2020-07-01 at 10.37.36 PM.png': 10, '/Users/yulismamartinez/Desktop/Research/Marine_life/Images/L_poly/Screen Shot 2020-07-02 at 1.26.15 PM.png': 11, '/Users/yulismamartinez/Desktop/Research/Marine_life/Images/L_poly/Screen Shot 2020-07-02 at 3.21.42 PM.png': 12, '/Users/yulismamartinez/Desktop/Research/Marine_life/Images/L_poly/Screen Shot 2020-07-02 at 3.52.47 PM.png': 13, '/Users/yulismamartinez/Desktop/Research/Marine_life/Images/Other/Screen Shot 2020-07-02 at 10.09.52 AM.png': 14, '/Users/yulismamartinez/Desktop/Research/Marine_life/Images/Other/Screen Shot 2020-07-02 at 4.19.24 PM.png': 15, '/Users/yulismamartinez/Desktop/Research/Marine_life/Images/Other/Screen Shot 2020-07-02 at 4.52.54 PM.png': 16, '/Users/yulismamartinez/Desktop/Research/Marine_life/Images/Other/Screen Shot 2020-07-02 at 5.38.21 PM.png': 17, '/Users/yulismamartinez/Desktop/Research/Marine_life/Images/Other/Screen Shot 2020-07-02 at 6.02.16 PM.png': 18, '/Users/yulismamartinez/Desktop/Research/Marine_life/Images/Other/Screen Shot 2020-07-02 at 6.47.18 PM.png': 19, '/Users/yulismamartinez/Desktop/Research/Marine_life/Images/Other/Screen Shot 2020-07-02 at 6.47.34 PM.png': 20, '/Users/yulismamartinez/Desktop/Research/Marine_life/Images/Other/Screen Shot 2020-07-02 at 8.09.14 PM.png': 21, '/Users/yulismamartinez/Desktop/Research/Marine_life/Images/Other/Screen Shot 2020-07-02 at 8.10.12 PM.png': 22, '/Users/yulismamartinez/Desktop/Research/Marine_life/Images/Other/Screen Shot 2020-07-02 at 8.14.07 PM.png': 23, '/Users/yulismamartinez/Desktop/Research/Marine_life/Images/Other/Screen Shot 2020-07-02 at 8.25.00 PM.png': 24, '/Users/yulismamartinez/Desktop/Research/Marine_life/Images/Other/Screen Shot 2020-07-02 at 9.31.41 AM.png': 25, '/Users/yulismamartinez/Desktop/Research/Marine_life/Images/Other/Screen Shot 2020-07-02 at 9.35.44 AM.png': 26, '/Users/yulismamartinez/Desktop/Research/Marine_life/Images/Questionable/Screen Shot 2020-07-02 at 10.14.17 AM.png': 27, '/Users/yulismamartinez/Desktop/Research/Marine_life/Images/Questionable/Screen Shot 2020-07-02 at 10.35.14 AM.png': 28, '/Users/yulismamartinez/Desktop/Research/Marine_life/Images/Questionable/Screen Shot 2020-07-02 at 10.35.35 AM.png': 29, '/Users/yulismamartinez/Desktop/Research/Marine_life/Images/Questionable/Screen Shot 2020-07-02 at 10.44.54 AM.png': 30, '/Users/yulismamartinez/Desktop/Research/Marine_life/Images/Questionable/Screen Shot 2020-07-02 at 11.48.12 AM.png': 31, '/Users/yulismamartinez/Desktop/Research/Marine_life/Images/Questionable/Screen Shot 2020-07-02 at 12.13.49 PM.png': 32, '/Users/yulismamartinez/Desktop/Research/Marine_life/Images/Questionable/Screen Shot 2020-07-02 at 12.14.49 PM.png': 33, '/Users/yulismamartinez/Desktop/Research/Marine_life/Images/Questionable/Screen Shot 2020-07-03 at 7.49.23 PM.png': 34, '/Users/yulismamartinez/Desktop/Research/Marine_life/Images/Questionable/Screen Shot 2020-07-03 at 7.50.48 AM.png': 35, '/Users/yulismamartinez/Desktop/Research/Marine_life/Images/Questionable/Screen Shot 2020-07-03 at 8.40.46 AM.png': 36, '/Users/yulismamartinez/Desktop/Research/Marine_life/Images/Questionable/Screen Shot 2020-07-03 at 8.42.34 AM.png': 37, '/Users/yulismamartinez/Desktop/Research/Marine_life/Images/Questionable/Screen Shot 2020-07-03 at 8.52.31 AM.png': 38, '/Users/yulismamartinez/Desktop/Research/Marine_life/Images/Questionable/Screen Shot 2020-07-07 at 10.16.09 PM.png': 39, '/Users/yulismamartinez/Desktop/Research/Marine_life/Images/Questionable/Screen Shot 2020-07-07 at 10.25.22 PM.png': 40, '/Users/yulismamartinez/Desktop/Research/Marine_life/Images/Questionable/Screen Shot 2020-07-08 at 11.29.32 PM.png': 41, '/Users/yulismamartinez/Desktop/Research/Marine_life/Images/Questionable/Screen Shot 2020-07-08 at 11.37.36 PM.png': 42}\n"
     ]
    }
   ],
   "source": [
    "import os\n",
    "import shutil\n",
    "def get_image_files(root_dir, img_types):\n",
    "    #os.walk creates 3-tuple with (dirpath, dirnames, filenames)\n",
    "    # Get all the root directories, subdirectories, and files\n",
    "    full_paths = [x for x in os.walk(root_dir)] \n",
    "    #print(full_paths)\n",
    "    imgs_temp = [os.path.join(ds,f) for ds,_,fs in full_paths for f in fs if f]   \n",
    "    # Filter out so only have directories with .jpg, .tiff, .tif, .png, .jpeg\n",
    "    img_types= [\".png\"]\n",
    "    imgs = [j for j in imgs_temp if any (k in j for k in img_types)]\n",
    "    list_temp = list(imgs) #Change to list so can interate over it\n",
    "    list_new = sorted(list_temp) #Alphabetizing\n",
    "    label_dict = {list_new[x]:x for x in range(len(list_new))} #create dictionary with category:index\n",
    "    for i in label_dict:\n",
    "        if i.startswith(\"2020\"):\n",
    "            shutil.copy(root_dir+i, destination)\n",
    "            print(i)\n",
    "    return label_dict\n",
    "destination = '/Users/yulismamartinez/Desktop/Research/Place/'\n",
    "z = get_image_files(root_dir='/Users/yulismamartinez/Desktop/Research/Marine_life/Images/', img_types=[\".png\"])\n",
    "print(z)"
   ]
  },
  {
   "cell_type": "code",
   "execution_count": 57,
   "metadata": {},
   "outputs": [
    {
     "name": "stdout",
     "output_type": "stream",
     "text": [
      "[('/Users/yulismamartinez/Desktop/Research/Marine_life/Images/', ['L_poly', 'Ciliate', 'Other', 'Questionable'], ['.DS_Store']), ('/Users/yulismamartinez/Desktop/Research/Marine_life/Images/L_poly', [], ['Screen Shot 2020-07-02 at 3.21.42 PM.png', 'Screen Shot 2020-07-01 at 10.06.20 PM.png', 'Screen Shot 2020-07-02 at 3.52.47 PM.png', 'Screen Shot 2020-07-01 at 10.27.59 PM.png', 'Screen Shot 2020-07-02 at 1.26.15 PM.png', 'Screen Shot 2020-07-01 at 10.37.36 PM.png']), ('/Users/yulismamartinez/Desktop/Research/Marine_life/Images/Ciliate', [], ['Screen Shot 2020-07-01 at 8.11.00 PM.png', 'Screen Shot 2020-07-01 at 6.54.54 PM.png', 'Screen Shot 2020-07-01 at 6.53.17 PM.png', 'Screen Shot 2020-07-01 at 7.21.10 PM.png', 'Screen Shot 2020-07-01 at 6.40.32 PM.png', 'Screen Shot 2020-07-01 at 6.31.18 PM.png', 'Screen Shot 2020-07-01 at 6.45.52 PM.png', 'Screen Shot 2020-07-01 at 7.53.18 PM.png']), ('/Users/yulismamartinez/Desktop/Research/Marine_life/Images/Other', [], ['Screen Shot 2020-07-02 at 8.10.12 PM.png', 'Screen Shot 2020-07-02 at 8.25.00 PM.png', 'Screen Shot 2020-07-02 at 5.38.21 PM.png', 'Screen Shot 2020-07-02 at 8.09.14 PM.png', 'Screen Shot 2020-07-02 at 8.14.07 PM.png', 'Screen Shot 2020-07-02 at 10.09.52 AM.png', 'Screen Shot 2020-07-02 at 6.47.18 PM.png', 'Screen Shot 2020-07-02 at 9.35.44 AM.png', 'Screen Shot 2020-07-02 at 6.47.34 PM.png', 'Screen Shot 2020-07-02 at 4.52.54 PM.png', 'Screen Shot 2020-07-02 at 6.02.16 PM.png', 'Screen Shot 2020-07-02 at 9.31.41 AM.png', 'Screen Shot 2020-07-02 at 4.19.24 PM.png']), ('/Users/yulismamartinez/Desktop/Research/Marine_life/Images/Questionable', [], ['Screen Shot 2020-07-03 at 8.40.46 AM.png', 'Screen Shot 2020-07-03 at 7.50.48 AM.png', 'Screen Shot 2020-07-03 at 8.42.34 AM.png', 'Screen Shot 2020-07-02 at 10.14.17 AM.png', 'Screen Shot 2020-07-08 at 11.29.32 PM.png', 'Screen Shot 2020-07-03 at 8.52.31 AM.png', 'Screen Shot 2020-07-02 at 10.35.35 AM.png', 'Screen Shot 2020-07-08 at 11.37.36 PM.png', 'Screen Shot 2020-07-02 at 10.44.54 AM.png', 'Screen Shot 2020-07-07 at 10.16.09 PM.png', 'Screen Shot 2020-07-02 at 10.35.14 AM.png', 'Screen Shot 2020-07-02 at 12.14.49 PM.png', 'Screen Shot 2020-07-02 at 11.48.12 AM.png', 'Screen Shot 2020-07-03 at 7.49.23 PM.png', 'Screen Shot 2020-07-02 at 12.13.49 PM.png', 'Screen Shot 2020-07-07 at 10.25.22 PM.png'])]\n"
     ]
    }
   ],
   "source": [
    "def func_2():\n",
    "    path = '/Users/yulismamartinez/Desktop/Research/Marine_life/Images/'\n",
    "    a = list(os.walk(path)) ##retrieve image files using os.listdir()\n",
    "    for i in path:\n",
    "        \n",
    "    print(a)\n",
    "func_2()"
   ]
  },
  {
   "cell_type": "code",
   "execution_count": null,
   "metadata": {},
   "outputs": [],
   "source": []
  }
 ],
 "metadata": {
  "kernelspec": {
   "display_name": "Python 3",
   "language": "python",
   "name": "python3"
  },
  "language_info": {
   "codemirror_mode": {
    "name": "ipython",
    "version": 3
   },
   "file_extension": ".py",
   "mimetype": "text/x-python",
   "name": "python",
   "nbconvert_exporter": "python",
   "pygments_lexer": "ipython3",
   "version": "3.7.4"
  }
 },
 "nbformat": 4,
 "nbformat_minor": 2
}
