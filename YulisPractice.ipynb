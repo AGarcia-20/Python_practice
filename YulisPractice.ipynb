{
 "cells": [
  {
   "cell_type": "code",
   "execution_count": 69,
   "metadata": {},
   "outputs": [
    {
     "data": {
      "text/plain": [
       "['/home/guest_3/Desktop/Image_classification_SPCS/Scripps_plankton_camera_system_images/Labeled_ciliates_and_other/Lingulodinium_polyedra/SPCP2-1558417507-095844-002-68-2292-128-128.jpg',\n",
       " '/home/guest_3/Desktop/Image_classification_SPCS/Scripps_plankton_camera_system_images/Labeled_ciliates_and_other/Lingulodinium_polyedra/SPCP2-1559626660-016952-000-292-1972-104-120.jpg',\n",
       " '/home/guest_3/Desktop/Image_classification_SPCS/Scripps_plankton_camera_system_images/Labeled_ciliates_and_other/Lingulodinium_polyedra/SPCP2-1559626069-012281-000-168-2544-120-120.jpg',\n",
       " '/home/guest_3/Desktop/Image_classification_SPCS/Scripps_plankton_camera_system_images/Labeled_ciliates_and_other/Lingulodinium_polyedra/SPCP2-1559627025-019836-003-124-196-128-144.jpg',\n",
       " '/home/guest_3/Desktop/Image_classification_SPCS/Scripps_plankton_camera_system_images/Labeled_ciliates_and_other/Lingulodinium_polyedra/SPCP2-1559625526-007977-002-392-1808-136-128.jpg',\n",
       " '/home/guest_3/Desktop/Image_classification_SPCS/Scripps_plankton_camera_system_images/Labeled_ciliates_and_other/Lingulodinium_polyedra/SPCP2-1559584654-064429-003-0-532-128-120.jpg',\n",
       " '/home/guest_3/Desktop/Image_classification_SPCS/Scripps_plankton_camera_system_images/Labeled_ciliates_and_other/Lingulodinium_polyedra/SPCP2-1559584607-064050-003-412-2112-112-120.jpg',\n",
       " '/home/guest_3/Desktop/Image_classification_SPCS/Scripps_plankton_camera_system_images/Labeled_ciliates_and_other/Lingulodinium_polyedra/SPCP2-1559582517-047537-000-832-2348-112-88.jpg']"
      ]
     },
     "execution_count": 69,
     "metadata": {},
     "output_type": "execute_result"
    }
   ],
   "source": [
    "#practicing breaking down get_images_files function line by line to figure out what it does\n",
    "import os\n",
    "\n",
    "root_dir = \"/home/guest_3/Desktop/Image_classification_SPCS/Scripps_plankton_camera_system_images/Labeled_ciliates_and_other\"\n",
    "# Get all the root directories, subdirectories, and files\n",
    "full_paths = [x for x in os.walk(root_dir)] \n",
    "imgs_temp = [os.path.join(ds,f) for ds,_,fs in full_paths for f in fs if f]   \n",
    "\n",
    "img_types = [\".jpg\"]\n",
    "\n",
    "# Filter out so only have directories with .jpg, .tiff, .tif, .png, .jpeg\n",
    "imgs = [j for j in imgs_temp if any (k in j for k in img_types)]\n",
    "\n",
    "imgs[0:8]\n",
    "\n"
   ]
  },
  {
   "cell_type": "code",
   "execution_count": 7,
   "metadata": {},
   "outputs": [
    {
     "name": "stdout",
     "output_type": "stream",
     "text": [
      "folders do not contain the same images\n"
     ]
    }
   ],
   "source": [
    "#code that compares folders and copies images to different folders. \n",
    "#This code was later turned into a funciton.\n",
    "import os\n",
    "import shutil\n",
    "\n",
    "path_1 = '/Users/yulismamartinez/Desktop/Research/Lab/Ciliates_guest1N/' \n",
    "path_2 = '/Users/yulismamartinez/Desktop/Research/Lab/Ciliates_guest3/'\n",
    "\n",
    "path_9 = '/Users/yulismamartinez/Desktop/Research/Different_Ciliate_Images/'#moving Ciliate images here\n",
    "\n",
    "\n",
    "a = os.listdir(path_1) #adjust the \"path_1/2\" to the paths you want to use\n",
    "b = os.listdir(path_2)\n",
    "\n",
    "if a == b:\n",
    "    print(\"folders contain the same images\")\n",
    "elif a != b:\n",
    "    print(\"folders do not contain the same images\")\n",
    "\n",
    "dif_files_path1 = [x for x in a if x not in b] #this will only look at the images that are in A but not in B\n",
    "source = path_1\n",
    "destination = path_9\n",
    "for i in dif_files_path1:\n",
    "    shutil.move (source+i, destination+i) \n",
    "\n",
    "dif_files_path2 = [x for x in b if x not in a] #this will only look at the images that are in B but not in A\n",
    "source = path_2\n",
    "destination = path_9\n",
    "for i in dif_files_path2:\n",
    "    shutil.move (source+i, destination+i) \n"
   ]
  },
  {
   "cell_type": "code",
   "execution_count": 1,
   "metadata": {},
   "outputs": [
    {
     "name": "stdout",
     "output_type": "stream",
     "text": [
      "directories do not contain the same files\n",
      "directories do not contain the same files\n",
      "directories do not contain the same files\n",
      "directories do not contain the same files\n"
     ]
    }
   ],
   "source": [
    "#Testing function to compare and copy images on personal computer images\n",
    "import os\n",
    "import shutil\n",
    "\n",
    "\n",
    "\n",
    "def mv_duplicate_files(source1, source2, destination,file_types):\n",
    "    \n",
    "    # This function compares files in source1 and source2 and moves duplicate files \n",
    "        #so destination directory has single set of each file\n",
    "        \n",
    "    # source1 is one directory want to compare files in\n",
    "    # source2 is other directory want to compare files in\n",
    "    # destination is where complete set of non-duplicate files will end up\n",
    "    # file_types are the types of files want moved to destination directory\n",
    "    \n",
    "    files1 = os.listdir(source1) \n",
    "    files2 = os.listdir(source2)\n",
    "    files3 = os.listdir(destination)\n",
    "\n",
    "\n",
    "    if files1 == files2:\n",
    "        print(\"directories contain the same files\")\n",
    "\n",
    "    elif files1 != files2:\n",
    "        print(\"directories do not contain the same files\")\n",
    "\n",
    "        #Only look at the images in files1 but not in files2\n",
    "        dif_files_temp = [x for x in files1 if x not in files2] \n",
    "        \n",
    "        # Only dealing with file types of interest\n",
    "        dif_files_1_temp = [j for j in dif_files_temp if any (k in j for k in file_types)]\n",
    "        \n",
    "        #Ensure files in source1 not already in destination folder\n",
    "        dif_files_1 = [x for x in dif_files_1_temp if x not in files3]\n",
    "        for i in dif_files_1:\n",
    "            shutil.move (source1+i, destination+i) \n",
    "   \n",
    "        #Only look at the images that are in files2 but not in files1\n",
    "        dif_files_temp = [x for x in files2 if x not in files1] \n",
    "        dif_files_2_temp = [j for j in dif_files_temp if any (k in j for k in file_types)]\n",
    "        dif_files_2 = [x for x in dif_files_2_temp if x not in files3]\n",
    "        for i in dif_files_2:\n",
    "            shutil.move (source2+i, destination+i) \n",
    "        \n",
    "        # Move images that are same in both folders\n",
    "        same_files_temp = [x for x in files1 if x in files2]\n",
    "        same_files = [j for j in same_files_temp if any (k in j for k in file_types)]\n",
    "        for i in same_files:\n",
    "            shutil.move (source1+i, destination+i)\n",
    "\n",
    "\n",
    "# Specify directories want to compare and where want files to end up   \n",
    "path_groups = [('/Users/yulismamartinez/Desktop/Research/Lab/Ciliates_guest1N/',#folder_1 for comparison\n",
    "                '/Users/yulismamartinez/Desktop/Research/Lab/Ciliates_guest3/',#folder_2 for comparison\n",
    "                '/Users/yulismamartinez/Desktop/Research/Lab/Different_Ciliate_Images/'),#destination for files\n",
    "                ('/Users/yulismamartinez/Desktop/Research/Lab/Lpoly1/',#folder_1 for comparison\n",
    "                '/Users/yulismamartinez/Desktop/Research/Lab/Lpoly3/',#folder_2 for comparison\n",
    "                '/Users/yulismamartinez/Desktop/Research/Lab/Different_Lpoly/' ), #destination\n",
    "               ('/Users/yulismamartinez/Desktop/Research/Lab/Other1/',\n",
    "               '/Users/yulismamartinez/Desktop/Research/Lab/Other3/', \n",
    "               '/Users/yulismamartinez/Desktop/Research/Lab/Different_other/'),\n",
    "              ('/Users/yulismamartinez/Desktop/Research/Lab/Questionable1/',\n",
    "              '/Users/yulismamartinez/Desktop/Research/Lab/Questionable3/',\n",
    "              '/Users/yulismamartinez/Desktop/Research/Lab/Different_questionable/')]#destination\n",
    "\n",
    "# Specify file types want to look at actually move around\n",
    "file_types = ('jpg')\n",
    "\n",
    "# Run function\n",
    "for paths in path_groups:\n",
    "    mv_duplicate_files(paths[0],paths[1],paths[2],file_types)"
   ]
  },
  {
   "cell_type": "code",
   "execution_count": 2,
   "metadata": {},
   "outputs": [
    {
     "name": "stdout",
     "output_type": "stream",
     "text": [
      "directories do not contain the same files\n",
      "directories do not contain the same files\n",
      "directories do not contain the same files\n",
      "directories do not contain the same files\n"
     ]
    }
   ],
   "source": [
    "#Testing function to compare and copy the actual SPCP images\n",
    "\n",
    "import os\n",
    "import shutil\n",
    "\n",
    "def mv_duplicate_files(source1, source2, destination,file_types):\n",
    "    \n",
    "    # This function compares files in source1 and source2 and moves duplicate files \n",
    "        #so destination directory has single set of each file\n",
    "        \n",
    "    # source1 is one directory want to compare files in\n",
    "    # source2 is other directory want to compare files in\n",
    "    # destination is where complete set of non-duplicate files will end up\n",
    "    # file_types are the types of files want moved to destination directory\n",
    "    \n",
    "    files1 = os.listdir(source1) \n",
    "    files2 = os.listdir(source2)\n",
    "    files3 = os.listdir(destination)\n",
    "\n",
    "\n",
    "    if files1 == files2:\n",
    "        print(\"directories contain the same files\")\n",
    "\n",
    "    elif files1 != files2:\n",
    "        print(\"directories do not contain the same files\")\n",
    "\n",
    "        #Only look at the images in files1 but not in files2\n",
    "        dif_files_temp = [x for x in files1 if x not in files2] \n",
    "        \n",
    "        # Only dealing with file types of interest\n",
    "        dif_files_1_temp = [j for j in dif_files_temp if any (k in j for k in file_types)]\n",
    "        \n",
    "        #Ensure files in source1 not already in destination folder\n",
    "        dif_files_1 = [x for x in dif_files_1_temp if x not in files3]\n",
    "        for i in dif_files_1:\n",
    "            shutil.move (source1+i, destination+i) \n",
    "   \n",
    "        #Only look at the images that are in files2 but not in files1\n",
    "        dif_files_temp = [x for x in files2 if x not in files1] \n",
    "        dif_files_2_temp = [j for j in dif_files_temp if any (k in j for k in file_types)]\n",
    "        dif_files_2 = [x for x in dif_files_2_temp if x not in files3]\n",
    "        for i in dif_files_2:\n",
    "            shutil.move (source2+i, destination+i) \n",
    "        \n",
    "        # Move images that are same in both folders\n",
    "        same_files_temp = [x for x in files1 if x in files2]\n",
    "        same_files = [j for j in same_files_temp if any (k in j for k in file_types)]\n",
    "        for i in same_files:\n",
    "            shutil.move (source1+i, destination+i)\n",
    "\n",
    "\n",
    "# Specify directories want to compare and where want files to end up   \n",
    "path_groups = [('/Users/yulismamartinez/Desktop/Python_practice/Master_images_guest_1_computer/Ciliate_guest1/', #folder_1 for comparison\n",
    "                '/Users/yulismamartinez/Desktop/Python_practice/Master_images_guest_3_computer/Ciliate_guest3/', #folder_2 for comparison\n",
    "                '/Users/yulismamartinez/Desktop/Python_practice/Final_Images/Ciliate/'), #destination for files\n",
    "                ('/Users/yulismamartinez/Desktop/Python_practice/Master_images_guest_1_computer/Lingulodinium_polyedra_guest1/',\n",
    "                '/Users/yulismamartinez/Desktop/Python_practice/Master_images_guest_3_computer/Lingulodinium_polyedra_guest3/',\n",
    "                '/Users/yulismamartinez/Desktop/Python_practice/Final_Images/Lingulodinium_polyedra/'), \n",
    "               ('/Users/yulismamartinez/Desktop/Python_practice/Master_images_guest_1_computer/Other_guest1/',\n",
    "               '/Users/yulismamartinez/Desktop/Python_practice/Master_images_guest_3_computer/Other_guest3/', \n",
    "               '/Users/yulismamartinez/Desktop/Python_practice/Final_Images/Other/'),\n",
    "              ('/Users/yulismamartinez/Desktop/Python_practice/Master_images_guest_1_computer/Questionable_guest1/',\n",
    "              '/Users/yulismamartinez/Desktop/Python_practice/Master_images_guest_3_computer/Questionable_guest3/',\n",
    "              '/Users/yulismamartinez/Desktop/Python_practice/Final_Images/Questionable/')]\n",
    "\n",
    "# Specify file types want to look at actually move around\n",
    "file_types = ('jpg')\n",
    "\n",
    "# Run function\n",
    "for paths in path_groups:\n",
    "    mv_duplicate_files(paths[0],paths[1],paths[2],file_types)"
   ]
  },
  {
   "cell_type": "code",
   "execution_count": 79,
   "metadata": {},
   "outputs": [
    {
     "data": {
      "text/plain": [
       "['0100_images',\n",
       " '0100_images',\n",
       " '0100_images',\n",
       " '0100_images',\n",
       " '0100_images',\n",
       " '0200_images',\n",
       " '0200_images',\n",
       " '0200_images',\n",
       " '0200_images',\n",
       " '0200_images',\n",
       " '0500_images',\n",
       " '0500_images',\n",
       " '0500_images',\n",
       " '0500_images',\n",
       " '0500_images',\n",
       " '1000_images',\n",
       " '1000_images',\n",
       " '1000_images',\n",
       " '1000_images',\n",
       " '1000_images',\n",
       " '2000_images',\n",
       " '2000_images',\n",
       " '2000_images',\n",
       " '2000_images',\n",
       " '2000_images']"
      ]
     },
     "execution_count": 79,
     "metadata": {},
     "output_type": "execute_result"
    }
   ],
   "source": [
    "list_dir = ([name for name in os.listdir('/Users/yulismamartinez/Desktop/Python_practice/Different_sets_of_images/') if not name.startswith(\".DS_Store\")])\n",
    "list_dir = [f.lower() for f in list_dir]\n",
    "sorted (list_dir*5)\n"
   ]
  },
  {
   "cell_type": "code",
   "execution_count": 4,
   "metadata": {},
   "outputs": [
    {
     "name": "stdout",
     "output_type": "stream",
     "text": [
      "['0100_images', '0100_images', '0200_images', '0200_images', '0500_images', '0500_images', '1000_images', '1000_images', '2000_images', '2000_images']\n"
     ]
    }
   ],
   "source": [
    "#code that works to repeat directory 5 times!!\n",
    "import os\n",
    "def list_dir(directory, rep=5):\n",
    "    categories_in_directory = [i for i in os.listdir(directory) if not i.startswith(\".DS_Store\")]\n",
    "    get_list_order = [i.lower() for i in categories_in_directory]\n",
    "    final_list_order = sorted(get_list_order*rep)\n",
    "#     print(final_list_order) \n",
    "    return final_list_order\n",
    "a= list_dir(directory='/Users/yulismamartinez/Desktop/Python_practice/Different_sets_of_images/', rep=2)\n",
    "print (a)"
   ]
  },
  {
   "cell_type": "code",
   "execution_count": 22,
   "metadata": {
    "scrolled": true
   },
   "outputs": [
    {
     "name": "stdout",
     "output_type": "stream",
     "text": [
      "SPCP2-1522715341-301939-002-1836-1708-104-120.jpg\n",
      "SPCP2-1522716942-314217-000-544-2564-136-139.jpg\n"
     ]
    }
   ],
   "source": [
    "#code that works to copy images from one folder to another\n",
    "import shutil, os\n",
    "source =\"/Users/yulismamartinez/Desktop/Research/Lab/Ciliates_guest3/\"\n",
    "destination =\"/Users/yulismamartinez/Desktop/Research/Lab/New_destination\"\n",
    "for f in os.listdir(source):\n",
    "    if f.endswith(\".jpg\"):\n",
    "        shutil.copy(source + f, destination)\n",
    "        print(f)"
   ]
  },
  {
   "cell_type": "code",
   "execution_count": 9,
   "metadata": {},
   "outputs": [
    {
     "name": "stdout",
     "output_type": "stream",
     "text": [
      "Screen Shot 2020-07-02 at 8.10.12 PM.png\n",
      "Screen Shot 2020-07-02 at 8.25.00 PM.png\n",
      "Screen Shot 2020-07-02 at 5.38.21 PM.png\n",
      "Screen Shot 2020-07-02 at 8.09.14 PM.png\n",
      "Screen Shot 2020-07-02 at 8.14.07 PM.png\n",
      "Screen Shot 2020-07-02 at 10.09.52 AM.png\n",
      "Screen Shot 2020-07-02 at 6.47.18 PM.png\n",
      "Screen Shot 2020-07-02 at 9.35.44 AM.png\n",
      "Screen Shot 2020-07-02 at 6.47.34 PM.png\n",
      "Screen Shot 2020-07-02 at 4.52.54 PM.png\n",
      "Screen Shot 2020-07-02 at 6.02.16 PM.png\n",
      "Screen Shot 2020-07-02 at 9.31.41 AM.png\n",
      "Screen Shot 2020-07-02 at 4.19.24 PM.png\n"
     ]
    }
   ],
   "source": [
    "#code that works to copy images from one folder to another\n",
    "import shutil, os\n",
    "source =\"/Users/yulismamartinez/Desktop/Research/Marine_life/2018/Other/\"\n",
    "destination =\"//Users/yulismamartinez/Desktop/Research/Place/\"\n",
    "for f in os.listdir(source):\n",
    "    if f.endswith(\".png\"):\n",
    "        shutil.copy(source + f, destination)\n",
    "        print(f)"
   ]
  },
  {
   "cell_type": "code",
   "execution_count": 9,
   "metadata": {},
   "outputs": [
    {
     "name": "stdout",
     "output_type": "stream",
     "text": [
      "['2018', '2019']\n"
     ]
    }
   ],
   "source": [
    "def make_labels(files):\n",
    "    # Assume input is a list of complete file paths.\n",
    "    # Count the number of unique directory names that are immediate parent of the files.\n",
    "    # Order the directory names alphabetically from a-z, and associate labels accordingly.\n",
    "    set_temp = [x.split('/')[-2] for x in files] #doing as set to get only unique values\n",
    "    print(set_temp)\n",
    "#     list_temp = list(set_temp) #Change to list so can interate over it\n",
    "#     list_new = sorted(list_temp) #Alphabetizing\n",
    "#     label_dict = {list_new[x]:x for x in range(len(list_new))} #create dictionary with category:index\n",
    "    \n",
    "#     return label_dict\n",
    "\n",
    "v = make_labels(files=['/Users/yulismamartinez/Desktop/Research/Marine_life/2018/','/Users/yulismamartinez/Desktop/Research/2019/'])\n",
    "# print (v)"
   ]
  },
  {
   "cell_type": "code",
   "execution_count": 38,
   "metadata": {},
   "outputs": [
    {
     "data": {
      "text/plain": [
       "'2018'"
      ]
     },
     "execution_count": 38,
     "metadata": {},
     "output_type": "execute_result"
    }
   ],
   "source": [
    "files='/Users/yulismamartinez/Desktop/Research/Marine_life/2018/'\n",
    "files.split('/')[-2]"
   ]
  },
  {
   "cell_type": "code",
   "execution_count": 4,
   "metadata": {},
   "outputs": [
    {
     "name": "stdout",
     "output_type": "stream",
     "text": [
      "[('/Users/yulismamartinez/Desktop/Research/Marine_life/', ['2019', '2018', 'Categories'], ['.DS_Store']), ('/Users/yulismamartinez/Desktop/Research/Marine_life/2019', ['L_poly', 'Ciliate', 'Other', 'Questionable'], ['.DS_Store']), ('/Users/yulismamartinez/Desktop/Research/Marine_life/2019/L_poly', [], ['.DS_Store', 'Screen Shot 2020-07-01 at 10.06.20 PM.png', 'Screen Shot 2020-07-01 at 10.27.59 PM.png']), ('/Users/yulismamartinez/Desktop/Research/Marine_life/2019/Ciliate', [], ['.DS_Store', 'Screen Shot 2020-07-01 at 6.40.32 PM.png', 'Screen Shot 2020-07-01 at 6.45.52 PM.png']), ('/Users/yulismamartinez/Desktop/Research/Marine_life/2019/Other', [], ['.DS_Store', 'Screen Shot 2020-07-02 at 4.52.54 PM.png', 'Screen Shot 2020-07-02 at 4.19.24 PM.png']), ('/Users/yulismamartinez/Desktop/Research/Marine_life/2019/Questionable', [], ['.DS_Store', 'Screen Shot 2020-07-02 at 10.14.17 AM.png', 'Screen Shot 2020-07-02 at 10.35.35 AM.png', 'Screen Shot 2020-07-02 at 10.35.14 AM.png']), ('/Users/yulismamartinez/Desktop/Research/Marine_life/2018', ['L_poly', 'Ciliate', 'Other', 'Questionable'], ['.DS_Store']), ('/Users/yulismamartinez/Desktop/Research/Marine_life/2018/L_poly', [], ['.DS_Store', 'Screen Shot 2020-07-01 at 10.06.20 PM.png', 'Screen Shot 2020-07-01 at 10.27.59 PM.png']), ('/Users/yulismamartinez/Desktop/Research/Marine_life/2018/Ciliate', [], ['.DS_Store', 'SPCP2-1533636000-018091-003-2132-196-48-56.jpg', 'IMG_0307.jpeg', 'Screen Shot 2020-07-01 at 6.40.32 PM.png', 'Screen Shot 2020-07-01 at 6.45.52 PM.png']), ('/Users/yulismamartinez/Desktop/Research/Marine_life/2018/Other', [], ['.DS_Store', 'Screen Shot 2020-07-02 at 4.52.54 PM.png', 'Screen Shot 2020-07-02 at 4.19.24 PM.png']), ('/Users/yulismamartinez/Desktop/Research/Marine_life/2018/Questionable', [], ['.DS_Store', 'Screen Shot 2020-07-02 at 10.14.17 AM.png', 'Screen Shot 2020-07-02 at 10.35.35 AM.png', 'Screen Shot 2020-07-02 at 10.35.14 AM.png']), ('/Users/yulismamartinez/Desktop/Research/Marine_life/Categories', ['L_poly', 'Ciliate', 'Other', 'Questionable'], ['.DS_Store']), ('/Users/yulismamartinez/Desktop/Research/Marine_life/Categories/L_poly', [], ['Screen Shot 2020-07-01 at 10.06.20 PM.png', 'Screen Shot 2020-07-01 at 10.27.59 PM.png']), ('/Users/yulismamartinez/Desktop/Research/Marine_life/Categories/Ciliate', [], ['Screen Shot 2020-07-01 at 6.40.32 PM.png', 'Screen Shot 2020-07-01 at 6.45.52 PM.png']), ('/Users/yulismamartinez/Desktop/Research/Marine_life/Categories/Other', [], ['Screen Shot 2020-07-02 at 4.52.54 PM.png', 'Screen Shot 2020-07-02 at 4.19.24 PM.png']), ('/Users/yulismamartinez/Desktop/Research/Marine_life/Categories/Questionable', [], ['Screen Shot 2020-07-02 at 10.14.17 AM.png', 'Screen Shot 2020-07-02 at 10.35.35 AM.png', 'Screen Shot 2020-07-02 at 10.35.14 AM.png'])]\n"
     ]
    }
   ],
   "source": [
    "import os\n",
    "root_dir='/Users/yulismamartinez/Desktop/Research/Marine_life/'\n",
    "full_paths = [x for x in os.walk(root_dir)]\n",
    "print(full_paths)"
   ]
  },
  {
   "cell_type": "code",
   "execution_count": 1,
   "metadata": {
    "scrolled": true
   },
   "outputs": [],
   "source": [
    "#########code works to create directories of category ##############\n",
    "#########and then copy what is in those folders into their folder###\n",
    "\n",
    "\n",
    "import os\n",
    "import shutil\n",
    "def copy_image_files(root_dir, img_types,destination):\n",
    "   #os.walk creates 3-tuple with (dirpath, dirnames, filenames)\n",
    "   # Get all the root directories, subdirectories, and files\n",
    "    full_paths = [x for x in os.walk(root_dir)]\n",
    "    imgs_temp = [os.path.join(ds,f) for ds,_,fs in full_paths for f in fs if f] \n",
    "   # Filter out so only have directories with .jpg, .tiff, .tif, .png, .jpeg\n",
    "    imgs = [j for j in imgs_temp if any (k in j for k in img_types)]\n",
    "    categories_in_folders= {x.split('/')[-2] for x in imgs}#curly brackets makes them into a set\n",
    "    \n",
    "    for m in categories_in_folders:\n",
    "        if not os.path.exists(destination+m):\n",
    "            os.makedirs(destination+m)\n",
    "\n",
    "    for l in imgs:\n",
    "        category=l.split('/')[-2]\n",
    "        shutil.copy(l,destination+category)\n",
    "\n",
    "dest='/Users/yulismamartinez/Desktop/Research/Part_3_2019_Labeled_Images/'\n",
    "p= copy_image_files(root_dir='/Users/yulismamartinez/Desktop/Research/Labeled_data_part_3/SPCP2_unlabeled_data_part_3/', img_types=['.jpg'], destination=dest)"
   ]
  },
  {
   "cell_type": "code",
   "execution_count": null,
   "metadata": {},
   "outputs": [],
   "source": [
    "import os\n",
    "import shutil\n",
    "def copy_files(src_dir, file_types,dest_dir):\n",
    "# src_dir is the directory which contains subfolders in fromwhich want to extract files\n",
    "# file_types = files of a particular type (e.g., jpeg, docx) that want to focus on \n",
    "# dest_dir = directory in which will create subfolders and copy images from src_dir\n",
    "\n",
    "    full_paths = [x for x in os.walk(src_dir)]\n",
    "    file_temp = [os.path.join(ds,f) for ds,_,fs in full_paths for f in fs if f] \n",
    "    files = [j for j in file_temp if any (k in j for k in file_types)]\n",
    "    categories_in_folders= {x.split('/')[-2] for x in files}\n",
    "    categories_in_folders = [x for x in categories_in_folders if not x.startswith('20')] #subdirs begin with year, which are all in the 2000s\n",
    "    for m in categories_in_folders:\n",
    "        if not os.path.exists(dest_dir+m):\n",
    "            os.makedirs(dest_dir+m)\n",
    "    for l in files:\n",
    "        category=l.split('/')[-2]\n",
    "        if not category.startswith('20'):\n",
    "            shutil.copy(l,dest_dir+category)\n",
    "        # shutil.copy(l,dest_dir+category)\n",
    "\n",
    "        \n",
    "        \n",
    "src = '/Users/dtaniguchi/Research/SPCS_images/Images_downloaded_2020_classified/SPCP2_labeled_data_part_2/'        \n",
    "dest='/Users/dtaniguchi/Research/SPCS_images/Images_downloaded_2020_classified_and_combined/SPCP2_labeled_data_part_2/'\n",
    "\n",
    "copy_files(src_dir = src, file_types=['.jpg'], dest_dir=dest)"
   ]
  },
  {
   "cell_type": "code",
   "execution_count": 3,
   "metadata": {},
   "outputs": [],
   "source": [
    "###SAME CODE AS ABOVE JUST WITH COMMENTS THAT MADE SENSE TO ME###\n",
    "\n",
    "import os\n",
    "import shutil\n",
    "def copy_image_files(root_dir, img_types,destination):\n",
    "   #os.walk creates 3-tuple with (dirpath, dirnames, filenames)\n",
    "   # Get all the root directories, subdirectories, and files\n",
    "    full_paths = [x for x in os.walk(root_dir)]\n",
    "    imgs_temp = [os.path.join(ds,f) for ds,_,fs in full_paths for f in fs if f] \n",
    "   # Filter out so only have directories with .jpg, .tiff, .tif, .png, .jpeg\n",
    "    imgs = [j for j in imgs_temp if any (k in j for k in img_types)]\n",
    "    categories_in_folders= [x.split('/')[-2] for x in imgs]\n",
    "    \n",
    "    for m in categories_in_folders:\n",
    "        if not os.path.exists(destination+m):\n",
    "            os.makedirs(destination+m)\n",
    "#for subfolder/category in categories_in folder if there is not already a path to a directory in the destination with the name of m then make a directory. This will loop through all the m's and make a directory once. The +m attached to destinatinon will make one folder for the next 'different' m.\n",
    "\n",
    "    for l in imgs:\n",
    "        category=l.split('/')[-2]\n",
    "        shutil.copy(l,destination+category)\n",
    "#l= image and if printed it gives you the image path\n",
    "#for image in imgs(which are only the .png filtered images)\n",
    "#category=l.split('/')[-2] says give me the second to last thing from that path (which are the subfolders/categories that those images are located in)\n",
    "#then, copy those images to the destination in their right category\n",
    "dest='/Users/yulismamartinez/Desktop/Research/Marine_life/Categories/'\n",
    "\n",
    "p= copy_image_files(root_dir='/Users/yulismamartinez/Desktop/Research/Marine_life/', img_types=['.jpeg'], destination=dest)"
   ]
  },
  {
   "cell_type": "code",
   "execution_count": 7,
   "metadata": {},
   "outputs": [],
   "source": [
    "#breaking down code again to see what each line does\n",
    "root_dir='/Users/yulismamartinez/Desktop/Research/Marine_life/'\n",
    "full_paths = [x for x in os.walk(root_dir)]\n",
    "# print('these are full_paths',full_paths)#prints out everything that is inside\n",
    "imgs_temp = [os.path.join(ds,f) for ds,_,fs in full_paths for f in fs if f] \n",
    "#os.path.join(ds,f)= our expression- we want to join the following\n",
    "#ds= directories? directory separator? Main path=Root_dir?\n",
    "#f= file?\n",
    "# for everytime we run into ds,_,fs so a (/)\n",
    "#fs= fileS?\n",
    "#for f in fs if f = is this the condition \"if it is a file then move it?\"\n",
    "# print('these are img_temps',imgs_temp)\n",
    "# imgs = [j for j in imgs_temp if any (k in j for k in img_types)]\n",
    "#k- is that the PNG\n",
    "#if any (k in j for k in img_types)- only if it is a PNG file, then move it"
   ]
  },
  {
   "cell_type": "code",
   "execution_count": 50,
   "metadata": {},
   "outputs": [
    {
     "name": "stdout",
     "output_type": "stream",
     "text": [
      "{'Other', 'Questionable', 'Ciliate', 'L_poly'}\n"
     ]
    }
   ],
   "source": [
    "import os\n",
    "\n",
    "def get_file_size(path5, img_types5):\n",
    "    full_paths5 = [x for x in os.walk(path5)]\n",
    "#     imgs_temp5 = [os.path.join(ds,f) for ds,_,fs in full_paths5 for f in fs if f] \n",
    "#     imgs5 = [j for j in imgs_temp5 if any (k in j for k in img_types5)]\n",
    "#     categories_in_folders5= {x.split('/')[-2] for x in imgs5}\n",
    "    for o in [categories_in_folders5]:\n",
    "        print(o)\n",
    "        if\n",
    "\n",
    "\n",
    "u=get_file_size(path5='/Users/yulismamartinez/Desktop/Research/Marine_life/categories/', img_types5=['.png'])"
   ]
  },
  {
   "cell_type": "code",
   "execution_count": 26,
   "metadata": {},
   "outputs": [
    {
     "name": "stdout",
     "output_type": "stream",
     "text": [
      "{'Other', 'Questionable', 'Ciliate', 'L_poly'}\n"
     ]
    }
   ],
   "source": [
    "import os\n",
    "\n",
    "jay = os.listdir('/Users/yulismamartinez/Desktop/Research/Marine_life/categories/')\n",
    "categorys= {x.split('/')[-1] for x in jay}\n",
    "print(categorys)\n",
    "\n",
    "# number_files = len(source)\n",
    "\n",
    "# print (number_files)\n",
    "\n",
    "#list = os.listdir(\"folder/directory\")\n",
    "#number_files = len(list)\n",
    "\n",
    "#print (number_files)"
   ]
  },
  {
   "cell_type": "code",
   "execution_count": 34,
   "metadata": {},
   "outputs": [],
   "source": [
    "import os\n",
    "path = '/Users/yulismamartinez/Desktop/Research/Marine_life/categories/'\n",
    "categories = ['Ciliate','Other','L_poly','Questionable']\n",
    "for r, d, f in os.walk(path):\n",
    "    split_r= r.split('/'[-1]) \n",
    "    if split_r== categories:\n",
    "        num_files = len(f)\n",
    "        file_list.append(f)\n",
    "        print(num_files)"
   ]
  },
  {
   "cell_type": "code",
   "execution_count": null,
   "metadata": {},
   "outputs": [],
   "source": [
    "\n"
   ]
  }
 ],
 "metadata": {
  "kernelspec": {
   "display_name": "Python 3",
   "language": "python",
   "name": "python3"
  },
  "language_info": {
   "codemirror_mode": {
    "name": "ipython",
    "version": 3
   },
   "file_extension": ".py",
   "mimetype": "text/x-python",
   "name": "python",
   "nbconvert_exporter": "python",
   "pygments_lexer": "ipython3",
   "version": "3.7.4"
  }
 },
 "nbformat": 4,
 "nbformat_minor": 2
}
