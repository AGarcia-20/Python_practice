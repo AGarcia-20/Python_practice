{
 "cells": [
  {
   "cell_type": "code",
   "execution_count": 19,
   "metadata": {},
   "outputs": [],
   "source": [
    "def get_dimensions(files):\n",
    "    # Set starting points for min and max dimensions\n",
    "    min_height, min_width = 10000, 10000\n",
    "    max_height, max_width = 0, 0\n",
    "    \n",
    "    for f in files:\n",
    "        # Read in images\n",
    "        img = cv.imread(f) # Read in images\n",
    "        h,w = img.shape[:2] # get height and width\n",
    "        \n",
    "        # Update min and max values, if necessary\n",
    "        if h < min_height:\n",
    "            min_height = h \n",
    "        if h > max_height:\n",
    "            max_height = h\n",
    "        if w < min_width:\n",
    "            min_width = w\n",
    "        if w > max_width:\n",
    "            max_width = w\n",
    "            \n",
    "    return min_height, min_width, max_height, max_width"
   ]
  },
  {
   "cell_type": "code",
   "execution_count": 1,
   "metadata": {},
   "outputs": [
    {
     "data": {
      "text/plain": [
       "5"
      ]
     },
     "execution_count": 1,
     "metadata": {},
     "output_type": "execute_result"
    }
   ],
   "source": [
    "def purple(gold, fish):\n",
    "    crackers = gold - fish\n",
    "    return crackers\n",
    "\n",
    "\n",
    "a= 10\n",
    "b= 5\n",
    "\n",
    "purple (a,b)"
   ]
  },
  {
   "cell_type": "code",
   "execution_count": 2,
   "metadata": {},
   "outputs": [
    {
     "data": {
      "text/plain": [
       "-5"
      ]
     },
     "execution_count": 2,
     "metadata": {},
     "output_type": "execute_result"
    }
   ],
   "source": [
    "purple (fish=a, gold=b)"
   ]
  },
  {
   "cell_type": "code",
   "execution_count": 3,
   "metadata": {},
   "outputs": [],
   "source": [
    "min_height, min_width = 10000, 10000\n",
    "max_height, max_width = 0, 0"
   ]
  },
  {
   "cell_type": "code",
   "execution_count": 4,
   "metadata": {},
   "outputs": [
    {
     "name": "stdout",
     "output_type": "stream",
     "text": [
      "0\n"
     ]
    }
   ],
   "source": [
    "print(max_width)"
   ]
  },
  {
   "cell_type": "code",
   "execution_count": 15,
   "metadata": {
    "scrolled": false
   },
   "outputs": [
    {
     "data": {
      "text/plain": [
       "[5, 6]"
      ]
     },
     "execution_count": 15,
     "metadata": {},
     "output_type": "execute_result"
    }
   ],
   "source": [
    "green = [3,4,5,6]\n",
    "green [2:4]"
   ]
  },
  {
   "cell_type": "markdown",
   "metadata": {},
   "source": [
    "def purple(gold, fish):\n",
    "    crackers = gold - fish\n",
    "    return crackers\n",
    "\n",
    "\n",
    "a= 10\n",
    "b= 5\n",
    "\n",
    "purple (a,b)"
   ]
  },
  {
   "cell_type": "code",
   "execution_count": 21,
   "metadata": {},
   "outputs": [],
   "source": [
    "def purple2(gold,fish=3):\n",
    "    crackers=gold-fish\n",
    "    return crackers\n",
    "\n",
    "for f in files "
   ]
  },
  {
   "cell_type": "code",
   "execution_count": 51,
   "metadata": {},
   "outputs": [
    {
     "data": {
      "text/plain": [
       "(104, 160, 104, 160)"
      ]
     },
     "execution_count": 51,
     "metadata": {},
     "output_type": "execute_result"
    }
   ],
   "source": [
    "import cv2 as cv\n",
    "\n",
    "    # Set starting points for min and max dimensions\n",
    "min_height, min_width = 10000, 10000\n",
    "max_height, max_width = 0, 0\n",
    "files = [\"/home/guest_3/Desktop/Image_classification_SPCS/Scripps_plankton_camera_system_images/Labeled_ciliates_and_other/Ciliate/SPCP2-1564469803-161632-000-324-2176-160-104.jpg\"]\n",
    "for f in files:\n",
    "        # Read in images\n",
    "        img = cv.imread(f) # Read in images\n",
    "        h,w = img.shape[:2] # get height and width\n",
    "        \n",
    "        # Update min and max values, if necessary\n",
    "        if h < min_height:\n",
    "            min_height = h \n",
    "        if h > max_height:\n",
    "            max_height = h\n",
    "        if w < min_width:\n",
    "            min_width = w\n",
    "        if w > max_width:\n",
    "            max_width = w\n",
    "            \n",
    "min_height, min_width, max_height, max_width\n"
   ]
  },
  {
   "cell_type": "code",
   "execution_count": null,
   "metadata": {},
   "outputs": [],
   "source": [
    "def get_image_files(root_dir, img_types):\n",
    "    #os.walk creates 3-tuple with (dirpath, dirnames, filenames)\n",
    "    \n",
    "    # Get all the root directories, subdirectories, and files\n",
    "    full_paths = [x for x in os.walk(root_dir)] \n",
    "    imgs_temp = [os.path.join(ds,f) for ds,_,fs in full_paths for f in fs if f]   \n",
    "    \n",
    "    # Filter out so only have directories with .jpg, .tiff, .tif, .png, .jpeg\n",
    "    imgs = [j for j in imgs_temp if any (k in j for k in img_types)]\n",
    "    return imgs\n"
   ]
  },
  {
   "cell_type": "code",
   "execution_count": 69,
   "metadata": {},
   "outputs": [
    {
     "data": {
      "text/plain": [
       "['/home/guest_3/Desktop/Image_classification_SPCS/Scripps_plankton_camera_system_images/Labeled_ciliates_and_other/Lingulodinium_polyedra/SPCP2-1558417507-095844-002-68-2292-128-128.jpg',\n",
       " '/home/guest_3/Desktop/Image_classification_SPCS/Scripps_plankton_camera_system_images/Labeled_ciliates_and_other/Lingulodinium_polyedra/SPCP2-1559626660-016952-000-292-1972-104-120.jpg',\n",
       " '/home/guest_3/Desktop/Image_classification_SPCS/Scripps_plankton_camera_system_images/Labeled_ciliates_and_other/Lingulodinium_polyedra/SPCP2-1559626069-012281-000-168-2544-120-120.jpg',\n",
       " '/home/guest_3/Desktop/Image_classification_SPCS/Scripps_plankton_camera_system_images/Labeled_ciliates_and_other/Lingulodinium_polyedra/SPCP2-1559627025-019836-003-124-196-128-144.jpg',\n",
       " '/home/guest_3/Desktop/Image_classification_SPCS/Scripps_plankton_camera_system_images/Labeled_ciliates_and_other/Lingulodinium_polyedra/SPCP2-1559625526-007977-002-392-1808-136-128.jpg',\n",
       " '/home/guest_3/Desktop/Image_classification_SPCS/Scripps_plankton_camera_system_images/Labeled_ciliates_and_other/Lingulodinium_polyedra/SPCP2-1559584654-064429-003-0-532-128-120.jpg',\n",
       " '/home/guest_3/Desktop/Image_classification_SPCS/Scripps_plankton_camera_system_images/Labeled_ciliates_and_other/Lingulodinium_polyedra/SPCP2-1559584607-064050-003-412-2112-112-120.jpg',\n",
       " '/home/guest_3/Desktop/Image_classification_SPCS/Scripps_plankton_camera_system_images/Labeled_ciliates_and_other/Lingulodinium_polyedra/SPCP2-1559582517-047537-000-832-2348-112-88.jpg']"
      ]
     },
     "execution_count": 69,
     "metadata": {},
     "output_type": "execute_result"
    }
   ],
   "source": [
    "import os\n",
    "\n",
    "root_dir = \"/home/guest_3/Desktop/Image_classification_SPCS/Scripps_plankton_camera_system_images/Labeled_ciliates_and_other\"\n",
    "# Get all the root directories, subdirectories, and files\n",
    "full_paths = [x for x in os.walk(root_dir)] \n",
    "imgs_temp = [os.path.join(ds,f) for ds,_,fs in full_paths for f in fs if f]   \n",
    "\n",
    "img_types = [\".jpg\"]\n",
    "\n",
    "# Filter out so only have directories with .jpg, .tiff, .tif, .png, .jpeg\n",
    "imgs = [j for j in imgs_temp if any (k in j for k in img_types)]\n",
    "\n",
    "imgs[0:8]"
   ]
  },
  {
   "cell_type": "code",
   "execution_count": null,
   "metadata": {},
   "outputs": [],
   "source": [
    "\n",
    "def make_labels(files):\n",
    "    # Assume input is a list of complete file paths.\n",
    "    # Count the number of unique directory names that are immediate parent of the files.\n",
    "    # Order the directory names alphabetically from a-z, and associate labels accordingly.\n",
    "    set_temp = {x.split('/')[-2] for x in files} #doing as set to get only unique values\n",
    "    list_temp = list(set_temp) #Change to list so can interate over it\n",
    "    list_new = sorted(list_temp) #Alphabetizing\n",
    "    label_dict = {list_new[x]:x for x in range(len(list_new))} #create dictionary with category:index\n",
    "    \n",
    "    return label_dict\n"
   ]
  },
  {
   "cell_type": "code",
   "execution_count": 84,
   "metadata": {},
   "outputs": [],
   "source": [
    "def make_labels(files):\n",
    "    # Assume input is a list of complete file paths.\n",
    "    # Count the number of unique directory names that are immediate parent of the files.\n",
    "    # Order the directory names alphabetically from a-z, and associate labels accordingly.\n",
    "    set_temp = {x.split('/')[-2] for x in files} #doing as set to get only unique values\n",
    "    list_temp = list(set_temp) #Change to list so can interate over it\n",
    "    list_new = sorted(list_temp) #Alphabetizing\n",
    "    label_dict = {list_new[x]:x for x in range(len(list_new))} #create dictionary with category:index\n",
    "    \n",
    "    return label_dict\n"
   ]
  },
  {
   "cell_type": "code",
   "execution_count": 3,
   "metadata": {},
   "outputs": [
    {
     "name": "stdout",
     "output_type": "stream",
     "text": [
      "Geeks for Geeks Geeks Geeks Geeks\n",
      "GeeksforGeeks for GeeksforGeeks GeeksforGeeks geeks geeks\n"
     ]
    }
   ],
   "source": [
    "# Python3 program to demonstrate the  \n",
    "# use of replace() method   \n",
    "  \n",
    "string = \"geeks for geeks geeks geeks geeks\" \n",
    "   \n",
    "# Prints the string by replacing geeks by Geeks  \n",
    "print(string.replace(\"geeks\", \"Geeks\"))  \n",
    "  \n",
    "# Prints the string by replacing only 3 occurrence of Geeks   \n",
    "print(string.replace(\"geeks\", \"GeeksforGeeks\", 3))\n"
   ]
  },
  {
   "cell_type": "code",
   "execution_count": 11,
   "metadata": {},
   "outputs": [
    {
     "name": "stdout",
     "output_type": "stream",
     "text": [
      "Before moving file:\n",
      "['.DS_Store', 'img2.jpeg', 'img5.png', 'img4.png', 'img3.png']\n",
      "After moving file:\n",
      "['.DS_Store', 'img2.jpeg', 'img5.png', 'img4.png', 'img3.png']\n",
      "Destination path: /Users/yulismamartinez/Desktop/PABC/ABC\n"
     ]
    }
   ],
   "source": [
    "import os\n",
    "import shutil\n",
    "\n",
    "path_1 = '/Users/yulismamartinez/Desktop/ABC' #change path when using code\n",
    "path_2 = '/Users/yulismamartinez/Desktop/BCA'\n",
    "path_3 = '/Users/yulismamartinez/Desktop/PABC'#will be used to change images that don't have duplicates into new folder\n",
    "path_4 = '/Users/yulismamartinez/Desktop/PBCA'#\n",
    "\n",
    "\n",
    "#print (\"Before moving file:\")\n",
    "#print (os.listdir(path))\n",
    "\n",
    "#source = '/Users/yulismamartinez/Desktop/ABC'\n",
    "#destination = '/Users/yulismamartinez/Desktop/PABC'\n",
    "\n",
    "#print (\"After moving file:\")\n",
    "#print (os.listdir(path))\n",
    "\n",
    "#print (\"Destination path:\", dest)\n",
    "\n",
    "#dest= shutil.move(source, destination)\n",
    "\n"
   ]
  },
  {
   "cell_type": "code",
   "execution_count": 13,
   "metadata": {},
   "outputs": [
    {
     "name": "stdout",
     "output_type": "stream",
     "text": [
      "folders do not contain the same images\n",
      "/Users/yulismamartinez/Desktop/Ciliates_guest1\n",
      "files found only in Ciliates_guest1:\n",
      "['SPCP2-1522715967-306739-000-1516-2360-200-184.jpg']\n",
      "/Users/yulismamartinez/Desktop/Ciliates_guest3\n",
      "files found only in Ciliates_guest3:\n",
      "['SPCP2-1522715342-301953-003-968-528-120-136.jpg', 'SPCP2-1522715365-302133-002-668-1272-136-144.jpg']\n",
      "files that are the same\n",
      "['.DS_Store', 'SPCP2-1522715341-301939-002-1836-1708-104-120.jpg']\n"
     ]
    }
   ],
   "source": [
    "import os\n",
    "import shutil\n",
    "\n",
    "path_1 = '/Users/yulismamartinez/Desktop/Ciliates_guest1' \n",
    "path_2 = '/Users/yulismamartinez/Desktop/Ciliates_guest3'\n",
    "path_3 = '/Users/yulismamartinez/Desktop/Practice_guest1'\n",
    "path_4 = '/Users/yulismamartinez/Desktop/Practice_guest3'\n",
    "\n",
    "a = os.listdir(path_1) #adjust the \"path_1/2\" to the paths you want to use\n",
    "b = os.listdir(path_2)\n",
    "\n",
    "\n",
    "if a == b:\n",
    "    print(\"folders contain the same images\")\n",
    "elif a != b:\n",
    "    print(\"folders do not contain the same images\")\n",
    "\n",
    "dif_files_path1 = [x for x in a if x not in b] #this will only look at the images that are in A but not in B\n",
    "print (path_1)\n",
    "print (\"files found only in Ciliates_guest1:\")\n",
    "print(dif_files_path1)\n",
    "\n",
    "\n",
    "dif_files_path2 = [x for x in b if x not in a] #this will only look at the images that are in B but not in A\n",
    "print (path_2)\n",
    "print (\"files found only in Ciliates_guest3:\")\n",
    "print(dif_files_path2)\n",
    "\n",
    "\n",
    "same_files = [x for x in a if x in b]\n",
    "print (\"files that are the same\")\n",
    "print(same_files)\n",
    "\n",
    "source = '/Users/yulismamartinez/Desktop/Ciliates_guest1'#where you are getting the image from\n",
    "destination = '/Users/yulismamartinez/Desktop/Pracctice_guest1'#where you want to move it to \n",
    "\n",
    "#shutil.move(source, destination,dif_files) #will move the FOLDERS to the destination, Still trying to edit this one \n",
    "\n"
   ]
  },
  {
   "cell_type": "code",
   "execution_count": null,
   "metadata": {},
   "outputs": [],
   "source": []
  },
  {
   "cell_type": "code",
   "execution_count": null,
   "metadata": {},
   "outputs": [],
   "source": []
  }
 ],
 "metadata": {
  "kernelspec": {
   "display_name": "Python 3",
   "language": "python",
   "name": "python3"
  },
  "language_info": {
   "codemirror_mode": {
    "name": "ipython",
    "version": 3
   },
   "file_extension": ".py",
   "mimetype": "text/x-python",
   "name": "python",
   "nbconvert_exporter": "python",
   "pygments_lexer": "ipython3",
   "version": "3.7.4"
  }
 },
 "nbformat": 4,
 "nbformat_minor": 2
}
