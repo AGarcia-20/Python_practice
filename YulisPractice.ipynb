{
 "cells": [
  {
   "cell_type": "code",
   "execution_count": 19,
   "metadata": {},
   "outputs": [],
   "source": [
    "def get_dimensions(files):\n",
    "    # Set starting points for min and max dimensions\n",
    "    min_height, min_width = 10000, 10000\n",
    "    max_height, max_width = 0, 0\n",
    "    \n",
    "    for f in files:\n",
    "        # Read in images\n",
    "        img = cv.imread(f) # Read in images\n",
    "        h,w = img.shape[:2] # get height and width\n",
    "        \n",
    "        # Update min and max values, if necessary\n",
    "        if h < min_height:\n",
    "            min_height = h \n",
    "        if h > max_height:\n",
    "            max_height = h\n",
    "        if w < min_width:\n",
    "            min_width = w\n",
    "        if w > max_width:\n",
    "            max_width = w\n",
    "            \n",
    "    return min_height, min_width, max_height, max_width"
   ]
  },
  {
   "cell_type": "code",
   "execution_count": null,
   "metadata": {},
   "outputs": [],
   "source": []
  },
  {
   "cell_type": "code",
   "execution_count": 21,
   "metadata": {},
   "outputs": [],
   "source": [
    "def purple2(gold,fish=3):\n",
    "    crackers=gold-fish\n",
    "    return crackers\n",
    "\n",
    "for f in files "
   ]
  },
  {
   "cell_type": "code",
   "execution_count": 51,
   "metadata": {},
   "outputs": [
    {
     "data": {
      "text/plain": [
       "(104, 160, 104, 160)"
      ]
     },
     "execution_count": 51,
     "metadata": {},
     "output_type": "execute_result"
    }
   ],
   "source": [
    "import cv2 as cv\n",
    "\n",
    "    # Set starting points for min and max dimensions\n",
    "min_height, min_width = 10000, 10000\n",
    "max_height, max_width = 0, 0\n",
    "files = [\"/home/guest_3/Desktop/Image_classification_SPCS/Scripps_plankton_camera_system_images/Labeled_ciliates_and_other/Ciliate/SPCP2-1564469803-161632-000-324-2176-160-104.jpg\"]\n",
    "for f in files:\n",
    "        # Read in images\n",
    "        img = cv.imread(f) # Read in images\n",
    "        h,w = img.shape[:2] # get height and width\n",
    "        \n",
    "        # Update min and max values, if necessary\n",
    "        if h < min_height:\n",
    "            min_height = h \n",
    "        if h > max_height:\n",
    "            max_height = h\n",
    "        if w < min_width:\n",
    "            min_width = w\n",
    "        if w > max_width:\n",
    "            max_width = w\n",
    "            \n",
    "min_height, min_width, max_height, max_width\n"
   ]
  },
  {
   "cell_type": "code",
   "execution_count": null,
   "metadata": {},
   "outputs": [],
   "source": [
    "def get_image_files(root_dir, img_types):\n",
    "    #os.walk creates 3-tuple with (dirpath, dirnames, filenames)\n",
    "    \n",
    "    # Get all the root directories, subdirectories, and files\n",
    "    full_paths = [x for x in os.walk(root_dir)] \n",
    "    imgs_temp = [os.path.join(ds,f) for ds,_,fs in full_paths for f in fs if f]   \n",
    "    \n",
    "    # Filter out so only have directories with .jpg, .tiff, .tif, .png, .jpeg\n",
    "    imgs = [j for j in imgs_temp if any (k in j for k in img_types)]\n",
    "    return imgs\n"
   ]
  },
  {
   "cell_type": "code",
   "execution_count": 69,
   "metadata": {},
   "outputs": [
    {
     "data": {
      "text/plain": [
       "['/home/guest_3/Desktop/Image_classification_SPCS/Scripps_plankton_camera_system_images/Labeled_ciliates_and_other/Lingulodinium_polyedra/SPCP2-1558417507-095844-002-68-2292-128-128.jpg',\n",
       " '/home/guest_3/Desktop/Image_classification_SPCS/Scripps_plankton_camera_system_images/Labeled_ciliates_and_other/Lingulodinium_polyedra/SPCP2-1559626660-016952-000-292-1972-104-120.jpg',\n",
       " '/home/guest_3/Desktop/Image_classification_SPCS/Scripps_plankton_camera_system_images/Labeled_ciliates_and_other/Lingulodinium_polyedra/SPCP2-1559626069-012281-000-168-2544-120-120.jpg',\n",
       " '/home/guest_3/Desktop/Image_classification_SPCS/Scripps_plankton_camera_system_images/Labeled_ciliates_and_other/Lingulodinium_polyedra/SPCP2-1559627025-019836-003-124-196-128-144.jpg',\n",
       " '/home/guest_3/Desktop/Image_classification_SPCS/Scripps_plankton_camera_system_images/Labeled_ciliates_and_other/Lingulodinium_polyedra/SPCP2-1559625526-007977-002-392-1808-136-128.jpg',\n",
       " '/home/guest_3/Desktop/Image_classification_SPCS/Scripps_plankton_camera_system_images/Labeled_ciliates_and_other/Lingulodinium_polyedra/SPCP2-1559584654-064429-003-0-532-128-120.jpg',\n",
       " '/home/guest_3/Desktop/Image_classification_SPCS/Scripps_plankton_camera_system_images/Labeled_ciliates_and_other/Lingulodinium_polyedra/SPCP2-1559584607-064050-003-412-2112-112-120.jpg',\n",
       " '/home/guest_3/Desktop/Image_classification_SPCS/Scripps_plankton_camera_system_images/Labeled_ciliates_and_other/Lingulodinium_polyedra/SPCP2-1559582517-047537-000-832-2348-112-88.jpg']"
      ]
     },
     "execution_count": 69,
     "metadata": {},
     "output_type": "execute_result"
    }
   ],
   "source": [
    "import os\n",
    "\n",
    "root_dir = \"/home/guest_3/Desktop/Image_classification_SPCS/Scripps_plankton_camera_system_images/Labeled_ciliates_and_other\"\n",
    "# Get all the root directories, subdirectories, and files\n",
    "full_paths = [x for x in os.walk(root_dir)] \n",
    "imgs_temp = [os.path.join(ds,f) for ds,_,fs in full_paths for f in fs if f]   \n",
    "\n",
    "img_types = [\".jpg\"]\n",
    "\n",
    "# Filter out so only have directories with .jpg, .tiff, .tif, .png, .jpeg\n",
    "imgs = [j for j in imgs_temp if any (k in j for k in img_types)]\n",
    "\n",
    "imgs[0:8]"
   ]
  },
  {
   "cell_type": "code",
   "execution_count": null,
   "metadata": {},
   "outputs": [],
   "source": [
    "\n",
    "def make_labels(files):\n",
    "    # Assume input is a list of complete file paths.\n",
    "    # Count the number of unique directory names that are immediate parent of the files.\n",
    "    # Order the directory names alphabetically from a-z, and associate labels accordingly.\n",
    "    set_temp = {x.split('/')[-2] for x in files} #doing as set to get only unique values\n",
    "    list_temp = list(set_temp) #Change to list so can interate over it\n",
    "    list_new = sorted(list_temp) #Alphabetizing\n",
    "    label_dict = {list_new[x]:x for x in range(len(list_new))} #create dictionary with category:index\n",
    "    \n",
    "    return label_dict\n"
   ]
  },
  {
   "cell_type": "code",
   "execution_count": 84,
   "metadata": {},
   "outputs": [],
   "source": [
    "def make_labels(files):\n",
    "    # Assume input is a list of complete file paths.\n",
    "    # Count the number of unique directory names that are immediate parent of the files.\n",
    "    # Order the directory names alphabetically from a-z, and associate labels accordingly.\n",
    "    set_temp = {x.split('/')[-2] for x in files} #doing as set to get only unique values\n",
    "    list_temp = list(set_temp) #Change to list so can interate over it\n",
    "    list_new = sorted(list_temp) #Alphabetizing\n",
    "    label_dict = {list_new[x]:x for x in range(len(list_new))} #create dictionary with category:index\n",
    "    \n",
    "    return label_dict\n"
   ]
  },
  {
   "cell_type": "code",
   "execution_count": null,
   "metadata": {},
   "outputs": [],
   "source": [
    "\n",
    "import os\n",
    "import shutil\n",
    "\n",
    "path_1 = '/Users/yulismamartinez/Desktop/Python_practice/Master_images_guest_1_computer/Ciliate_guest1' \n",
    "path_2 = '/Users/yulismamartinez/Desktop/Python_practice/Master_images_guest_3_computer/Ciliate_guest3'\n",
    "path_3 = '/Users/yulismamartinez/Desktop/Python_practice/Master_images_guest_1_computer/Lingulodinium_polyedra_guest1'\n",
    "path_4 = '/Users/yulismamartinez/Desktop/Python_practice/Master_images_guest_3_computer/Lingulodinium_polyedra_guest3'\n",
    "path_5 = '/Users/yulismamartinez/Desktop/Python_practice/Master_images_guest_1_computer/Other_guest1'\n",
    "path_6 = '/Users/yulismamartinez/Desktop/Python_practice/Master_images_guest_3_computer/Other_guest3'\n",
    "path_7 = '/Users/yulismamartinez/Desktop/Python_practice/Master_images_guest_1_computer/Questionable_guest1'\n",
    "path_8 = '/Users/yulismamartinez/Desktop/Python_practice/Master_images_guest_3_computer/Questionable_guest3'\n",
    "\n",
    "path_9 = '/Users/yulismamartinez/Desktop/Python_practice/Final_Ciliate_Images'#moving Ciliate images here\n",
    "path_10 = '/Users/yulismamartinez/Desktop/Python_practice/Final_Lingulodinium_polyedra_Images'\n",
    "path_11 = '/Users/yulismamartinez/Desktop/Python_practice/Final_Other_Images'\n",
    "path_12 = '/Users/yulismamartinez/Desktop/Python_practice/Final_Questionable_Images'\n",
    "\n",
    "a = os.listdir(path_1) #adjust the \"path_1/2\" to the paths you want to use\n",
    "b = os.listdir(path_2)\n",
    "\n",
    "if a == b:\n",
    "    print(\"folders contain the same images\")\n",
    "elif a != b:\n",
    "    print(\"folders do not contain the same images\")\n",
    "\n",
    "dif_files_path1 = [x for x in a if x not in b] #this will only look at the images that are in A but not in B\n",
    "source = path_1\n",
    "destination = path_9\n",
    "for i in dif_files_path1:\n",
    "    #shutil.move (source+i, destination+i) \n",
    "\n",
    "dif_files_path2 = [x for x in b if x not in a] #this will only look at the images that are in B but not in A\n",
    "source = path_2\n",
    "destination = path_9\n",
    "for i in dif_files_path2:\n",
    "    #shutil.move (source+i, destination+i) \n"
   ]
  }
 ],
 "metadata": {
  "kernelspec": {
   "display_name": "Python 3",
   "language": "python",
   "name": "python3"
  },
  "language_info": {
   "codemirror_mode": {
    "name": "ipython",
    "version": 3
   },
   "file_extension": ".py",
   "mimetype": "text/x-python",
   "name": "python",
   "nbconvert_exporter": "python",
   "pygments_lexer": "ipython3",
   "version": "3.7.4"
  }
 },
 "nbformat": 4,
 "nbformat_minor": 2
}
