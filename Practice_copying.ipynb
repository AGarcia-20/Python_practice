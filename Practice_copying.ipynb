{
 "cells": [
  {
   "cell_type": "code",
   "execution_count": null,
   "metadata": {},
   "outputs": [],
   "source": [
    "def func_2():\n",
    "    root_dir = '/Users/keomonydiep/Desktop/training_images'\n",
    "\n",
    "    full_path = [x for x in os.walk(root_dir)]\n",
    "\n",
    "    imgs_temp = [os.path.join(ds, f) for ds, _, fs in full_path for f in fs if f]\n",
    "\n",
    "    under_represented_l_poly = [i * 2 for i in imgs_temp if i.__contains__('l_poly')]\n",
    "    under_represented_ciliates = [i * 4 for i in imgs_temp if i.__contains__('ciliates')]\n",
    "    over_represented_other = [i for i in imgs_temp if i.__contains__('other')]\n",
    "\n",
    "    all_images = [under_represented_ciliates + under_represented_l_poly + over_represented_other]\n",
    "\n",
    "    print(all_images)\n",
    "\n",
    "func_2()"
   ]
  },
  {
   "cell_type": "code",
   "execution_count": null,
   "metadata": {},
   "outputs": [],
   "source": []
  },
  {
   "cell_type": "code",
   "execution_count": 3,
   "metadata": {},
   "outputs": [
    {
     "name": "stdout",
     "output_type": "stream",
     "text": [
      "length of images in ciliates is 764\n",
      "length of images in l_poly is 333\n"
     ]
    }
   ],
   "source": [
    "import os\n",
    "\n",
    "def func_2():\n",
    "    path = '/Users/yulismamartinez/Desktop/Python_practice/Master_images_guest_1_computer/Ciliate_guest1'##path to the ciliate image files\n",
    "    a = os.listdir(path) ##retrieve image files using os.listdir()\n",
    "    #print(a[:4]) ##print out the first four images within the list\n",
    "    print('length of images in ciliates is ' + str(len(a))) ##print out the length of files in the ciliates\n",
    "\n",
    "    path_2 = '/Users/yulismamartinez/Desktop/Python_practice/Master_images_guest_1_computer/Lingulodinium_polyedra_guest1' ##path to l_poly image files\n",
    "    b = os.listdir(path_2)##retrieve image files\n",
    "    #print(b[:4])##print out the first four images within the list\n",
    "    print('length of images in l_poly is ' + str(len(b))) #print out length of files in l_poly\n",
    "\n",
    "\n",
    "func_2()\n",
    "\n"
   ]
  },
  {
   "cell_type": "code",
   "execution_count": null,
   "metadata": {},
   "outputs": [],
   "source": []
  }
 ],
 "metadata": {
  "kernelspec": {
   "display_name": "Python 3",
   "language": "python",
   "name": "python3"
  },
  "language_info": {
   "codemirror_mode": {
    "name": "ipython",
    "version": 3
   },
   "file_extension": ".py",
   "mimetype": "text/x-python",
   "name": "python",
   "nbconvert_exporter": "python",
   "pygments_lexer": "ipython3",
   "version": "3.7.4"
  }
 },
 "nbformat": 4,
 "nbformat_minor": 2
}
